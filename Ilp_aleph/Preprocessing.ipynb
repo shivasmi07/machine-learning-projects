{
 "cells": [
  {
   "cell_type": "code",
   "execution_count": 17,
   "id": "5ce379e5",
   "metadata": {},
   "outputs": [
    {
     "data": {
      "text/html": [
       "<div>\n",
       "<style scoped>\n",
       "    .dataframe tbody tr th:only-of-type {\n",
       "        vertical-align: middle;\n",
       "    }\n",
       "\n",
       "    .dataframe tbody tr th {\n",
       "        vertical-align: top;\n",
       "    }\n",
       "\n",
       "    .dataframe thead th {\n",
       "        text-align: right;\n",
       "    }\n",
       "</style>\n",
       "<table border=\"1\" class=\"dataframe\">\n",
       "  <thead>\n",
       "    <tr style=\"text-align: right;\">\n",
       "      <th></th>\n",
       "      <th>age</th>\n",
       "      <th>workclass</th>\n",
       "      <th>fnlwgt</th>\n",
       "      <th>education</th>\n",
       "      <th>education-num</th>\n",
       "      <th>marital-status</th>\n",
       "      <th>occupation</th>\n",
       "      <th>relationship</th>\n",
       "      <th>race</th>\n",
       "      <th>sex</th>\n",
       "      <th>capital-gain</th>\n",
       "      <th>capital-loss</th>\n",
       "      <th>hours-per-week</th>\n",
       "      <th>native-country</th>\n",
       "      <th>Income</th>\n",
       "    </tr>\n",
       "  </thead>\n",
       "  <tbody>\n",
       "    <tr>\n",
       "      <th>0</th>\n",
       "      <td>39</td>\n",
       "      <td>State-gov</td>\n",
       "      <td>77516</td>\n",
       "      <td>Bachelors</td>\n",
       "      <td>13</td>\n",
       "      <td>Never-married</td>\n",
       "      <td>Adm-clerical</td>\n",
       "      <td>Not-in-family</td>\n",
       "      <td>White</td>\n",
       "      <td>Male</td>\n",
       "      <td>2174</td>\n",
       "      <td>0</td>\n",
       "      <td>40</td>\n",
       "      <td>United-States</td>\n",
       "      <td>&lt;=50K</td>\n",
       "    </tr>\n",
       "    <tr>\n",
       "      <th>1</th>\n",
       "      <td>50</td>\n",
       "      <td>Self-emp-not-inc</td>\n",
       "      <td>83311</td>\n",
       "      <td>Bachelors</td>\n",
       "      <td>13</td>\n",
       "      <td>Married-civ-spouse</td>\n",
       "      <td>Exec-managerial</td>\n",
       "      <td>Husband</td>\n",
       "      <td>White</td>\n",
       "      <td>Male</td>\n",
       "      <td>0</td>\n",
       "      <td>0</td>\n",
       "      <td>13</td>\n",
       "      <td>United-States</td>\n",
       "      <td>&lt;=50K</td>\n",
       "    </tr>\n",
       "    <tr>\n",
       "      <th>2</th>\n",
       "      <td>38</td>\n",
       "      <td>Private</td>\n",
       "      <td>215646</td>\n",
       "      <td>HS-grad</td>\n",
       "      <td>9</td>\n",
       "      <td>Divorced</td>\n",
       "      <td>Handlers-cleaners</td>\n",
       "      <td>Not-in-family</td>\n",
       "      <td>White</td>\n",
       "      <td>Male</td>\n",
       "      <td>0</td>\n",
       "      <td>0</td>\n",
       "      <td>40</td>\n",
       "      <td>United-States</td>\n",
       "      <td>&lt;=50K</td>\n",
       "    </tr>\n",
       "    <tr>\n",
       "      <th>3</th>\n",
       "      <td>53</td>\n",
       "      <td>Private</td>\n",
       "      <td>234721</td>\n",
       "      <td>11th</td>\n",
       "      <td>7</td>\n",
       "      <td>Married-civ-spouse</td>\n",
       "      <td>Handlers-cleaners</td>\n",
       "      <td>Husband</td>\n",
       "      <td>Black</td>\n",
       "      <td>Male</td>\n",
       "      <td>0</td>\n",
       "      <td>0</td>\n",
       "      <td>40</td>\n",
       "      <td>United-States</td>\n",
       "      <td>&lt;=50K</td>\n",
       "    </tr>\n",
       "    <tr>\n",
       "      <th>4</th>\n",
       "      <td>28</td>\n",
       "      <td>Private</td>\n",
       "      <td>338409</td>\n",
       "      <td>Bachelors</td>\n",
       "      <td>13</td>\n",
       "      <td>Married-civ-spouse</td>\n",
       "      <td>Prof-specialty</td>\n",
       "      <td>Wife</td>\n",
       "      <td>Black</td>\n",
       "      <td>Female</td>\n",
       "      <td>0</td>\n",
       "      <td>0</td>\n",
       "      <td>40</td>\n",
       "      <td>Cuba</td>\n",
       "      <td>&lt;=50K</td>\n",
       "    </tr>\n",
       "  </tbody>\n",
       "</table>\n",
       "</div>"
      ],
      "text/plain": [
       "   age         workclass  fnlwgt  education  education-num  \\\n",
       "0   39         State-gov   77516  Bachelors             13   \n",
       "1   50  Self-emp-not-inc   83311  Bachelors             13   \n",
       "2   38           Private  215646    HS-grad              9   \n",
       "3   53           Private  234721       11th              7   \n",
       "4   28           Private  338409  Bachelors             13   \n",
       "\n",
       "       marital-status         occupation   relationship   race     sex  \\\n",
       "0       Never-married       Adm-clerical  Not-in-family  White    Male   \n",
       "1  Married-civ-spouse    Exec-managerial        Husband  White    Male   \n",
       "2            Divorced  Handlers-cleaners  Not-in-family  White    Male   \n",
       "3  Married-civ-spouse  Handlers-cleaners        Husband  Black    Male   \n",
       "4  Married-civ-spouse     Prof-specialty           Wife  Black  Female   \n",
       "\n",
       "   capital-gain  capital-loss  hours-per-week native-country Income  \n",
       "0          2174             0              40  United-States  <=50K  \n",
       "1             0             0              13  United-States  <=50K  \n",
       "2             0             0              40  United-States  <=50K  \n",
       "3             0             0              40  United-States  <=50K  \n",
       "4             0             0              40           Cuba  <=50K  "
      ]
     },
     "execution_count": 17,
     "metadata": {},
     "output_type": "execute_result"
    }
   ],
   "source": [
    "import pandas as pd\n",
    "\n",
    "df = pd.read_csv('../../data/raw/census_income_dataset_original.csv')  # adjust path as needed\n",
    "df.head()\n"
   ]
  },
  {
   "cell_type": "code",
   "execution_count": 18,
   "id": "ebc33264",
   "metadata": {},
   "outputs": [
    {
     "name": "stdout",
     "output_type": "stream",
     "text": [
      "<class 'pandas.core.frame.DataFrame'>\n",
      "RangeIndex: 48842 entries, 0 to 48841\n",
      "Data columns (total 15 columns):\n",
      " #   Column          Non-Null Count  Dtype \n",
      "---  ------          --------------  ----- \n",
      " 0   age             48842 non-null  int64 \n",
      " 1   workclass       47879 non-null  object\n",
      " 2   fnlwgt          48842 non-null  int64 \n",
      " 3   education       48842 non-null  object\n",
      " 4   education-num   48842 non-null  int64 \n",
      " 5   marital-status  48842 non-null  object\n",
      " 6   occupation      47876 non-null  object\n",
      " 7   relationship    48842 non-null  object\n",
      " 8   race            48842 non-null  object\n",
      " 9   sex             48842 non-null  object\n",
      " 10  capital-gain    48842 non-null  int64 \n",
      " 11  capital-loss    48842 non-null  int64 \n",
      " 12  hours-per-week  48842 non-null  int64 \n",
      " 13  native-country  48568 non-null  object\n",
      " 14  Income          48842 non-null  object\n",
      "dtypes: int64(6), object(9)\n",
      "memory usage: 5.6+ MB\n"
     ]
    }
   ],
   "source": [
    "df.info()"
   ]
  },
  {
   "cell_type": "markdown",
   "id": "d38ce2f8",
   "metadata": {},
   "source": [
    "### Dropping Irrelevant Columns\n",
    "\n",
    "The following columns are not required for ILP-based learning:\n",
    "- `fnlwgt`: weighting column used for sampling, not predictive\n",
    "- `education-num`: duplicate of `education`\n",
    "- `capital-gain` and `capital-loss`: sparse, skewed, and mostly zero\n"
   ]
  },
  {
   "cell_type": "code",
   "execution_count": 19,
   "id": "0c0ed369",
   "metadata": {},
   "outputs": [],
   "source": [
    "df.drop(['fnlwgt', 'education-num', 'capital-gain', 'capital-loss'], axis=1, inplace=True)"
   ]
  },
  {
   "cell_type": "code",
   "execution_count": 20,
   "id": "2f6717e5",
   "metadata": {},
   "outputs": [
    {
     "name": "stdout",
     "output_type": "stream",
     "text": [
      "Duplicates before: 5513\n",
      "Duplicates Remaining after drop: 0\n"
     ]
    }
   ],
   "source": [
    "# Checking duplicates\n",
    "print(f\"Duplicates before: {df.duplicated().sum()}\")\n",
    "\n",
    "# Dropping duplicates\n",
    "df = df.drop_duplicates()\n",
    "\n",
    "# Confirming removal\n",
    "print(f\"Duplicates Remaining after drop: {df.duplicated().sum()}\")\n"
   ]
  },
  {
   "cell_type": "markdown",
   "id": "a9497646",
   "metadata": {},
   "source": [
    "### Cleaning Text and Handle Missing Values\n",
    "\n",
    "We:\n",
    "- Convert all text to lowercase\n",
    "- Strip whitespace\n",
    "- Replace symbols like `?`, `NaN`, and `None` with a uniform `'unknown'`\n"
   ]
  },
  {
   "cell_type": "code",
   "execution_count": 21,
   "id": "f5c9a812",
   "metadata": {},
   "outputs": [
    {
     "data": {
      "text/html": [
       "<div>\n",
       "<style scoped>\n",
       "    .dataframe tbody tr th:only-of-type {\n",
       "        vertical-align: middle;\n",
       "    }\n",
       "\n",
       "    .dataframe tbody tr th {\n",
       "        vertical-align: top;\n",
       "    }\n",
       "\n",
       "    .dataframe thead th {\n",
       "        text-align: right;\n",
       "    }\n",
       "</style>\n",
       "<table border=\"1\" class=\"dataframe\">\n",
       "  <thead>\n",
       "    <tr style=\"text-align: right;\">\n",
       "      <th></th>\n",
       "      <th>age</th>\n",
       "      <th>workclass</th>\n",
       "      <th>education</th>\n",
       "      <th>marital_status</th>\n",
       "      <th>occupation</th>\n",
       "      <th>relationship</th>\n",
       "      <th>race</th>\n",
       "      <th>sex</th>\n",
       "      <th>hours_per_week</th>\n",
       "      <th>native_country</th>\n",
       "      <th>income</th>\n",
       "    </tr>\n",
       "  </thead>\n",
       "  <tbody>\n",
       "    <tr>\n",
       "      <th>0</th>\n",
       "      <td>39</td>\n",
       "      <td>state_gov</td>\n",
       "      <td>bachelors</td>\n",
       "      <td>never_married</td>\n",
       "      <td>adm_clerical</td>\n",
       "      <td>not_in_family</td>\n",
       "      <td>white</td>\n",
       "      <td>male</td>\n",
       "      <td>40</td>\n",
       "      <td>united_states</td>\n",
       "      <td>&lt;=50k</td>\n",
       "    </tr>\n",
       "    <tr>\n",
       "      <th>1</th>\n",
       "      <td>50</td>\n",
       "      <td>self_emp_not_inc</td>\n",
       "      <td>bachelors</td>\n",
       "      <td>married_civ_spouse</td>\n",
       "      <td>exec_managerial</td>\n",
       "      <td>husband</td>\n",
       "      <td>white</td>\n",
       "      <td>male</td>\n",
       "      <td>13</td>\n",
       "      <td>united_states</td>\n",
       "      <td>&lt;=50k</td>\n",
       "    </tr>\n",
       "    <tr>\n",
       "      <th>2</th>\n",
       "      <td>38</td>\n",
       "      <td>private</td>\n",
       "      <td>hs_grad</td>\n",
       "      <td>divorced</td>\n",
       "      <td>handlers_cleaners</td>\n",
       "      <td>not_in_family</td>\n",
       "      <td>white</td>\n",
       "      <td>male</td>\n",
       "      <td>40</td>\n",
       "      <td>united_states</td>\n",
       "      <td>&lt;=50k</td>\n",
       "    </tr>\n",
       "    <tr>\n",
       "      <th>3</th>\n",
       "      <td>53</td>\n",
       "      <td>private</td>\n",
       "      <td>11th</td>\n",
       "      <td>married_civ_spouse</td>\n",
       "      <td>handlers_cleaners</td>\n",
       "      <td>husband</td>\n",
       "      <td>black</td>\n",
       "      <td>male</td>\n",
       "      <td>40</td>\n",
       "      <td>united_states</td>\n",
       "      <td>&lt;=50k</td>\n",
       "    </tr>\n",
       "    <tr>\n",
       "      <th>4</th>\n",
       "      <td>28</td>\n",
       "      <td>private</td>\n",
       "      <td>bachelors</td>\n",
       "      <td>married_civ_spouse</td>\n",
       "      <td>prof_specialty</td>\n",
       "      <td>wife</td>\n",
       "      <td>black</td>\n",
       "      <td>female</td>\n",
       "      <td>40</td>\n",
       "      <td>cuba</td>\n",
       "      <td>&lt;=50k</td>\n",
       "    </tr>\n",
       "  </tbody>\n",
       "</table>\n",
       "</div>"
      ],
      "text/plain": [
       "   age         workclass  education      marital_status         occupation  \\\n",
       "0   39         state_gov  bachelors       never_married       adm_clerical   \n",
       "1   50  self_emp_not_inc  bachelors  married_civ_spouse    exec_managerial   \n",
       "2   38           private    hs_grad            divorced  handlers_cleaners   \n",
       "3   53           private       11th  married_civ_spouse  handlers_cleaners   \n",
       "4   28           private  bachelors  married_civ_spouse     prof_specialty   \n",
       "\n",
       "    relationship   race     sex  hours_per_week native_country income  \n",
       "0  not_in_family  white    male              40  united_states  <=50k  \n",
       "1        husband  white    male              13  united_states  <=50k  \n",
       "2  not_in_family  white    male              40  united_states  <=50k  \n",
       "3        husband  black    male              40  united_states  <=50k  \n",
       "4           wife  black  female              40           cuba  <=50k  "
      ]
     },
     "execution_count": 21,
     "metadata": {},
     "output_type": "execute_result"
    }
   ],
   "source": [
    "# Standardizing column names\n",
    "df.columns = df.columns.str.strip().str.lower().str.replace('-', '_')\n",
    "\n",
    "# Cleaning string columns\n",
    "for col in df.select_dtypes(include='object').columns:\n",
    "    df[col] = df[col].astype(str).str.strip().str.lower()\n",
    "    df[col] = df[col].replace(['?', 'nan', 'na', 'none'], 'unknown')\n",
    "    df[col] = df[col].str.replace('-', '_')\n",
    "\n",
    "# Removing trailing period from income\n",
    "df['income'] = df['income'].str.replace('.', '', regex=False)\n",
    "df.head()"
   ]
  },
  {
   "cell_type": "markdown",
   "id": "43c1e695",
   "metadata": {},
   "source": [
    "### Updating Income labels"
   ]
  },
  {
   "cell_type": "code",
   "execution_count": 22,
   "id": "656aac7c",
   "metadata": {},
   "outputs": [
    {
     "data": {
      "text/plain": [
       "0    less_equal_50k\n",
       "1    less_equal_50k\n",
       "2    less_equal_50k\n",
       "3    less_equal_50k\n",
       "4    less_equal_50k\n",
       "Name: income, dtype: object"
      ]
     },
     "execution_count": 22,
     "metadata": {},
     "output_type": "execute_result"
    }
   ],
   "source": [
    "df['income'] = df['income'].replace({\n",
    "    '<=50k': 'less_equal_50k',\n",
    "    '>50k': 'greater_50k'\n",
    "})\n",
    "df['income'].head()"
   ]
  },
  {
   "cell_type": "markdown",
   "id": "41f5401c",
   "metadata": {},
   "source": [
    "### Discretizing `age` and `hours-per-week`\n",
    "\n",
    "We convert continuous values into discrete bins for easier rule learning:\n",
    "- `age`: young (≤30), middle (31–55), senior (>55)\n",
    "- `hours-per-week`: low (<30), average (30–50), high (>50)\n"
   ]
  },
  {
   "cell_type": "code",
   "execution_count": 23,
   "id": "1fb851cd",
   "metadata": {},
   "outputs": [
    {
     "data": {
      "text/html": [
       "<div>\n",
       "<style scoped>\n",
       "    .dataframe tbody tr th:only-of-type {\n",
       "        vertical-align: middle;\n",
       "    }\n",
       "\n",
       "    .dataframe tbody tr th {\n",
       "        vertical-align: top;\n",
       "    }\n",
       "\n",
       "    .dataframe thead th {\n",
       "        text-align: right;\n",
       "    }\n",
       "</style>\n",
       "<table border=\"1\" class=\"dataframe\">\n",
       "  <thead>\n",
       "    <tr style=\"text-align: right;\">\n",
       "      <th></th>\n",
       "      <th>age</th>\n",
       "      <th>workclass</th>\n",
       "      <th>education</th>\n",
       "      <th>marital_status</th>\n",
       "      <th>occupation</th>\n",
       "      <th>relationship</th>\n",
       "      <th>race</th>\n",
       "      <th>sex</th>\n",
       "      <th>hours_per_week</th>\n",
       "      <th>native_country</th>\n",
       "      <th>income</th>\n",
       "    </tr>\n",
       "  </thead>\n",
       "  <tbody>\n",
       "    <tr>\n",
       "      <th>0</th>\n",
       "      <td>middle</td>\n",
       "      <td>state_gov</td>\n",
       "      <td>bachelors</td>\n",
       "      <td>never_married</td>\n",
       "      <td>adm_clerical</td>\n",
       "      <td>not_in_family</td>\n",
       "      <td>white</td>\n",
       "      <td>male</td>\n",
       "      <td>average</td>\n",
       "      <td>united_states</td>\n",
       "      <td>less_equal_50k</td>\n",
       "    </tr>\n",
       "    <tr>\n",
       "      <th>1</th>\n",
       "      <td>middle</td>\n",
       "      <td>self_emp_not_inc</td>\n",
       "      <td>bachelors</td>\n",
       "      <td>married_civ_spouse</td>\n",
       "      <td>exec_managerial</td>\n",
       "      <td>husband</td>\n",
       "      <td>white</td>\n",
       "      <td>male</td>\n",
       "      <td>low</td>\n",
       "      <td>united_states</td>\n",
       "      <td>less_equal_50k</td>\n",
       "    </tr>\n",
       "    <tr>\n",
       "      <th>2</th>\n",
       "      <td>middle</td>\n",
       "      <td>private</td>\n",
       "      <td>hs_grad</td>\n",
       "      <td>divorced</td>\n",
       "      <td>handlers_cleaners</td>\n",
       "      <td>not_in_family</td>\n",
       "      <td>white</td>\n",
       "      <td>male</td>\n",
       "      <td>average</td>\n",
       "      <td>united_states</td>\n",
       "      <td>less_equal_50k</td>\n",
       "    </tr>\n",
       "    <tr>\n",
       "      <th>3</th>\n",
       "      <td>middle</td>\n",
       "      <td>private</td>\n",
       "      <td>11th</td>\n",
       "      <td>married_civ_spouse</td>\n",
       "      <td>handlers_cleaners</td>\n",
       "      <td>husband</td>\n",
       "      <td>black</td>\n",
       "      <td>male</td>\n",
       "      <td>average</td>\n",
       "      <td>united_states</td>\n",
       "      <td>less_equal_50k</td>\n",
       "    </tr>\n",
       "    <tr>\n",
       "      <th>4</th>\n",
       "      <td>young</td>\n",
       "      <td>private</td>\n",
       "      <td>bachelors</td>\n",
       "      <td>married_civ_spouse</td>\n",
       "      <td>prof_specialty</td>\n",
       "      <td>wife</td>\n",
       "      <td>black</td>\n",
       "      <td>female</td>\n",
       "      <td>average</td>\n",
       "      <td>cuba</td>\n",
       "      <td>less_equal_50k</td>\n",
       "    </tr>\n",
       "  </tbody>\n",
       "</table>\n",
       "</div>"
      ],
      "text/plain": [
       "      age         workclass  education      marital_status         occupation  \\\n",
       "0  middle         state_gov  bachelors       never_married       adm_clerical   \n",
       "1  middle  self_emp_not_inc  bachelors  married_civ_spouse    exec_managerial   \n",
       "2  middle           private    hs_grad            divorced  handlers_cleaners   \n",
       "3  middle           private       11th  married_civ_spouse  handlers_cleaners   \n",
       "4   young           private  bachelors  married_civ_spouse     prof_specialty   \n",
       "\n",
       "    relationship   race     sex hours_per_week native_country          income  \n",
       "0  not_in_family  white    male        average  united_states  less_equal_50k  \n",
       "1        husband  white    male            low  united_states  less_equal_50k  \n",
       "2  not_in_family  white    male        average  united_states  less_equal_50k  \n",
       "3        husband  black    male        average  united_states  less_equal_50k  \n",
       "4           wife  black  female        average           cuba  less_equal_50k  "
      ]
     },
     "execution_count": 23,
     "metadata": {},
     "output_type": "execute_result"
    }
   ],
   "source": [
    "def bin_age(age):\n",
    "    if age <= 30:\n",
    "        return 'young'\n",
    "    elif age <= 55:\n",
    "        return 'middle'\n",
    "    else:\n",
    "        return 'senior'\n",
    "\n",
    "def bin_hours(hours):\n",
    "    if hours < 30:\n",
    "        return 'low'\n",
    "    elif hours <= 50:\n",
    "        return 'average'\n",
    "    else:\n",
    "        return 'high'\n",
    "\n",
    "df['age'] = df['age'].apply(bin_age)\n",
    "df['hours_per_week'] = df['hours_per_week'].apply(bin_hours)\n",
    "df.head()"
   ]
  },
  {
   "cell_type": "markdown",
   "id": "1c091702",
   "metadata": {},
   "source": [
    "### Grouping Native Countries into Regions\n",
    "\n",
    "To reduce sparsity and simplify ILP rule generation, we group native countries into broader regions such as:\n",
    "- North America\n",
    "- Latin America\n",
    "- Asia\n",
    "- Europe\n",
    "- Middle East\n",
    "- Africa\n",
    "- Unknown"
   ]
  },
  {
   "cell_type": "code",
   "execution_count": 24,
   "id": "4a920d83",
   "metadata": {},
   "outputs": [
    {
     "name": "stdout",
     "output_type": "stream",
     "text": [
      "🔍 Unique country names BEFORE mapping:\n",
      "['united_states' 'cuba' 'jamaica' 'india' 'unknown' 'mexico' 'south'\n",
      " 'puerto_rico' 'honduras' 'england' 'canada' 'germany' 'iran'\n",
      " 'philippines' 'italy' 'poland' 'columbia' 'cambodia' 'thailand' 'ecuador'\n",
      " 'laos' 'taiwan' 'haiti' 'portugal' 'dominican_republic' 'el_salvador'\n",
      " 'france' 'guatemala' 'china' 'japan' 'yugoslavia' 'peru'\n",
      " 'outlying_us(guam_usvi_etc)' 'scotland' 'trinadad&tobago' 'greece'\n",
      " 'nicaragua' 'vietnam' 'hong' 'ireland' 'hungary' 'holand_netherlands']\n"
     ]
    }
   ],
   "source": [
    "print(\"🔍 Unique country names BEFORE mapping:\")\n",
    "print(df['native_country'].str.strip().str.lower().unique())"
   ]
  },
  {
   "cell_type": "code",
   "execution_count": 25,
   "id": "05ecbbcb",
   "metadata": {},
   "outputs": [],
   "source": [
    "# Dropped south because this value looks suspicious and may have been a partial/misentered country name\n",
    "df = df[df['native_country'] != 'South']"
   ]
  },
  {
   "cell_type": "code",
   "execution_count": 26,
   "id": "eb25b6e3",
   "metadata": {},
   "outputs": [],
   "source": [
    "# Defining region lists\n",
    "north_america = [c.strip().lower() for c in ['united-states', 'canada', 'puerto-rico', 'outlying-us(guam-usvi-etc)']]\n",
    "latin_america = [c.strip().lower() for c in ['mexico', 'cuba', 'jamaica', 'honduras', 'el-salvador',\n",
    "                 'columbia', 'guatemala', 'nicaragua', 'dominican-republic',\n",
    "                 'trinadad&tobago', 'ecuador', 'haiti', 'peru']]\n",
    "asia = [c.strip().lower() for c in ['india', 'china', 'japan', 'vietnam', 'philippines', 'thailand', \n",
    "        'cambodia', 'laos', 'taiwan', 'hong']]\n",
    "europe = [c.strip().lower() for c in ['england', 'germany', 'italy', 'poland', 'portugal', 'france', \n",
    "          'greece', 'ireland', 'hungary', 'scotland', 'yugoslavia', 'holand-netherlands']]\n",
    "middle_east = [c.strip().lower() for c in ['iran']]\n",
    "africa = [c.strip().lower() for c in ['south-africa', 'egypt']]\n",
    "\n",
    "# Defining mapping function\n",
    "def map_country_to_region(country):\n",
    "    if country in north_america:\n",
    "        return 'north_america'\n",
    "    elif country in latin_america:\n",
    "        return 'latin_america'\n",
    "    elif country in asia:\n",
    "        return 'asia'\n",
    "    elif country in europe:\n",
    "        return 'europe'\n",
    "    elif country in middle_east:\n",
    "        return 'middle_east'\n",
    "    elif country in africa:\n",
    "        return 'africa'\n",
    "    else:\n",
    "        return 'unknown'\n",
    "\n",
    "# Applying mapping\n",
    "df['native_country'] = df['native_country'].apply(map_country_to_region)\n"
   ]
  },
  {
   "cell_type": "markdown",
   "id": "523d5485",
   "metadata": {},
   "source": [
    "### Stratified Sampling\n",
    "\n",
    "To ensure balanced examples for ILP learning, we take an equal number of rows from each class (`<=50K` and `>50K`) for a representative sample. We take 500 balanced rows (250 from each class)\n"
   ]
  },
  {
   "cell_type": "code",
   "execution_count": 27,
   "id": "e9d91ea8",
   "metadata": {},
   "outputs": [
    {
     "data": {
      "text/plain": [
       "greater_50k       250\n",
       "less_equal_50k    250\n",
       "Name: income, dtype: int64"
      ]
     },
     "execution_count": 27,
     "metadata": {},
     "output_type": "execute_result"
    }
   ],
   "source": [
    "df_sample = df.groupby('income', group_keys=False).apply(lambda x: x.sample(min(250, len(x)), random_state=42))\n",
    "\n",
    "df_sample = df_sample.reset_index(drop=True)\n",
    "\n",
    "df_sample['income'].value_counts()"
   ]
  },
  {
   "cell_type": "markdown",
   "id": "09072a9d",
   "metadata": {},
   "source": [
    "### Exploratory Data Analysis (EDA)"
   ]
  },
  {
   "cell_type": "markdown",
   "id": "61c8c808",
   "metadata": {},
   "source": [
    "##### 1. Target variable distribution"
   ]
  },
  {
   "cell_type": "code",
   "execution_count": 28,
   "id": "972750dc",
   "metadata": {},
   "outputs": [
    {
     "data": {
      "image/png": "[encoded data removed]",
      "text/plain": [
       "<Figure size 432x288 with 1 Axes>"
      ]
     },
     "metadata": {
      "needs_background": "light"
     },
     "output_type": "display_data"
    }
   ],
   "source": [
    "import seaborn as sns\n",
    "import matplotlib.pyplot as plt\n",
    "\n",
    "# Visualizing income distribution\n",
    "sns.countplot(x='income', data=df_sample)\n",
    "plt.title('Distribution of Income Classes')\n",
    "plt.xlabel('Income')\n",
    "plt.ylabel('Count')\n",
    "plt.show()\n"
   ]
  },
  {
   "cell_type": "markdown",
   "id": "f85690bf",
   "metadata": {},
   "source": [
    "Observation:\n",
    "The income classes are evenly distributed in the sampled dataset, with 250 rows each for `<=50k` and `>50k`. This stratified sampling ensures that the ILP system receives a balanced set of positive and negative examples.\n"
   ]
  },
  {
   "cell_type": "markdown",
   "id": "804e67a6",
   "metadata": {},
   "source": [
    "##### 2. Distribution of categorical features"
   ]
  },
  {
   "cell_type": "code",
   "execution_count": 29,
   "id": "1984d074",
   "metadata": {},
   "outputs": [
    {
     "data": {
      "image/png": "[encoded data removed]",
      "text/plain": [
       "<Figure size 1296x864 with 8 Axes>"
      ]
     },
     "metadata": {
      "needs_background": "light"
     },
     "output_type": "display_data"
    }
   ],
   "source": [
    "import matplotlib.pyplot as plt\n",
    "import seaborn as sns\n",
    "\n",
    "cat_cols = ['education', 'workclass', 'occupation', 'marital_status', 'sex', 'race', 'native_country', 'relationship']\n",
    "\n",
    "fig, axes = plt.subplots(nrows=3, ncols=3, figsize=(18, 12))\n",
    "axes = axes.flatten()\n",
    "\n",
    "for i, col in enumerate(cat_cols):\n",
    "    sns.countplot(x=col, data=df_sample, ax=axes[i], order=df_sample[col].value_counts().index)\n",
    "    axes[i].set_title(f'{col.title()} Distribution')\n",
    "    axes[i].tick_params(axis='x', rotation=45)\n",
    "\n",
    "fig.delaxes(axes[-1])\n",
    "\n",
    "plt.tight_layout()\n",
    "plt.show()\n"
   ]
  },
  {
   "cell_type": "markdown",
   "id": "82f3ca0f",
   "metadata": {},
   "source": [
    "Observation:\n",
    "1. Education is dominated by levels like 'hs-grad', 'some-college', and 'bachelors', while very few individuals have 'preschool' or '1st-4th' education.\n",
    "\n",
    "2. Workclass shows 'private' as the most common category, followed by 'self-employed' and 'government' roles.\n",
    "\n",
    "3. In occupation, technical, administrative, and managerial jobs appear most frequently, while categories like 'armed-forces' are extremely rare.\n",
    "\n",
    "4. Marital status is primarily 'married' and 'never-married', aligning with a typical working-age population.\n",
    "\n",
    "5. Sex distribution shows more males than females in this sample.\n",
    "\n",
    "6. Race is skewed towards 'white', with other races making up a small portion.\n",
    "\n",
    "7. Native country is heavily concentrated in the 'united-states', making other countries sparse — a good case for grouping into regions or using 'other'.\n",
    "\n",
    "8. Relationship status is mostly 'husband' and 'not-in-family', likely reflecting primary household earners or individuals living alone."
   ]
  },
  {
   "cell_type": "markdown",
   "id": "d90f52be",
   "metadata": {},
   "source": [
    "##### 2. Distribution of age and hours_per_week"
   ]
  },
  {
   "cell_type": "code",
   "execution_count": 30,
   "id": "8976173c",
   "metadata": {},
   "outputs": [
    {
     "data": {
      "image/png": "[encoded data removed]",
      "text/plain": [
       "<Figure size 864x360 with 2 Axes>"
      ]
     },
     "metadata": {
      "needs_background": "light"
     },
     "output_type": "display_data"
    }
   ],
   "source": [
    "# Plotting distributions of binned numerical features\n",
    "fig, axes = plt.subplots(1, 2, figsize=(12, 5))\n",
    "\n",
    "# Age bin distribution\n",
    "sns.countplot(x='age', data=df_sample, order=['young', 'middle', 'senior'], ax=axes[0])\n",
    "axes[0].set_title('Discretized Age Distribution')\n",
    "axes[0].set_xlabel('Age Group')\n",
    "axes[0].set_ylabel('Count')\n",
    "\n",
    "# Hours-per-week bin distribution\n",
    "sns.countplot(x='hours_per_week', data=df_sample, order=['low', 'average', 'high'], ax=axes[1])\n",
    "axes[1].set_title('Discretized Hours-per-Week Distribution')\n",
    "axes[1].set_xlabel('Workload Category')\n",
    "axes[1].set_ylabel('Count')\n",
    "\n",
    "plt.tight_layout()\n",
    "plt.show()\n"
   ]
  },
  {
   "cell_type": "markdown",
   "id": "a6cfde4e",
   "metadata": {},
   "source": [
    "Observation:\n",
    "1. The `age` variable shows a majority of individuals in the **middle** age range (31–55), followed by **young** (≤30) and fewer in the **senior** category (>55).\n",
    "2. The `hours-per-week` variable is also well-distributed, with most individuals working an **average** number of hours (30–50). Very few individuals fall in the **high** or **low** workload groups.\n",
    "3. This confirms that binning has worked as expected and the categories are reasonably balanced for rule learning in ILP.\n"
   ]
  },
  {
   "cell_type": "code",
   "execution_count": 31,
   "id": "10296bac",
   "metadata": {},
   "outputs": [],
   "source": [
    "df.to_csv('../../data/processed/processed_ilp_aleph_dataset.csv', index=False)"
   ]
  }
 ],
 "metadata": {
  "kernelspec": {
   "display_name": "Python 3",
   "language": "python",
   "name": "python3"
  },
  "language_info": {
   "codemirror_mode": {
    "name": "ipython",
    "version": 3
   },
   "file_extension": ".py",
   "mimetype": "text/x-python",
   "name": "python",
   "nbconvert_exporter": "python",
   "pygments_lexer": "ipython3",
   "version": "3.9.6"
  }
 },
 "nbformat": 4,
 "nbformat_minor": 5
}

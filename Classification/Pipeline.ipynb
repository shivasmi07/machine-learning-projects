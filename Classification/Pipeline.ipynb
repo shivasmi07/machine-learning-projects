{
 "cells": [
  {
   "cell_type": "markdown",
   "metadata": {},
   "source": [
    "## Imports and Dependencies"
   ]
  },
  {
   "cell_type": "code",
   "execution_count": 24,
   "metadata": {},
   "outputs": [],
   "source": [
    "import os\n",
    "import seaborn as sns\n",
    "from sklearn.svm import LinearSVC\n",
    "from sklearn.pipeline import Pipeline\n",
    "from sklearn.preprocessing import StandardScaler\n",
    "from sklearn.neural_network import MLPClassifier\n",
    "from sklearn.tree import DecisionTreeClassifier\n",
    "from sklearn.model_selection import train_test_split\n",
    "from sklearn.model_selection import GridSearchCV, RandomizedSearchCV\n",
    "from sklearn.metrics import (\n",
    "    classification_report, roc_auc_score, average_precision_score,\n",
    "    confusion_matrix, ConfusionMatrixDisplay\n",
    ")\n",
    "import matplotlib.pyplot as plt\n",
    "import pandas as pd\n",
    "import joblib"
   ]
  },
  {
   "cell_type": "markdown",
   "metadata": {},
   "source": [
    "## Load Dataset Function"
   ]
  },
  {
   "cell_type": "code",
   "execution_count": 18,
   "metadata": {},
   "outputs": [],
   "source": [
    "def load_dataset(path):\n",
    "    if not os.path.exists(path):\n",
    "        raise FileNotFoundError(f\"{path} does not exist\")\n",
    "    return pd.read_csv(path)"
   ]
  },
  {
   "cell_type": "markdown",
   "metadata": {},
   "source": [
    "## Train and Evaluate Model Function"
   ]
  },
  {
   "cell_type": "code",
   "execution_count": 19,
   "metadata": {},
   "outputs": [],
   "source": [
    "def train_and_evaluate(name, pipeline, param_grid, X_train, X_test, y_train, y_test, search_type=\"grid\"):\n",
    "    if search_type == \"random\":\n",
    "        search = RandomizedSearchCV(pipeline, param_grid, n_iter=3, cv=3, scoring='f1', n_jobs=-1, random_state=42)\n",
    "    else:\n",
    "        search = GridSearchCV(pipeline, param_grid, cv=3, scoring='f1', n_jobs=-1)\n",
    "\n",
    "    search.fit(X_train, y_train)\n",
    "    best_model = search.best_estimator_\n",
    "    y_pred = best_model.predict(X_test)\n",
    "\n",
    "    try:\n",
    "        if hasattr(best_model.named_steps['classifier'], \"predict_proba\"):\n",
    "            y_score = best_model.predict_proba(X_test)[:, 1]\n",
    "        elif hasattr(best_model.named_steps['classifier'], \"decision_function\"):\n",
    "            y_score = best_model.decision_function(X_test)\n",
    "        else:\n",
    "            y_score = None\n",
    "        auc = roc_auc_score(y_test, y_score) if y_score is not None else \"N/A\"\n",
    "    except Exception as e:\n",
    "        auc = f\"Unavailable ({e})\"\n",
    "\n",
    "    print(f\"\\n===== {name} Results =====\")\n",
    "    print(\"Best Params:\", search.best_params_)\n",
    "    print(classification_report(y_test, y_pred))\n",
    "    print(f\"ROC-AUC: {auc}\")\n",
    "\n",
    "    ConfusionMatrixDisplay.from_predictions(y_test, y_pred, cmap='Blues')\n",
    "    plt.title(f\"Confusion Matrix: {name}\")\n",
    "    plt.grid(False)\n",
    "    plt.show()\n",
    "    \n",
    "    # Save the best model\n",
    "    model_filename = f\"{name}_best_model.pkl\"\n",
    "    joblib.dump(best_model, model_filename)\n",
    "    print(f\" Saved best model to {model_filename}\")\n",
    "\n",
    "    return {\n",
    "        \"Model\": name,\n",
    "        \"Best Params\": search.best_params_,\n",
    "        \"AUC Value\": auc\n",
    "    }"
   ]
  },
  {
   "cell_type": "markdown",
   "metadata": {},
   "source": [
    "## Main Function: Execute Pipeline"
   ]
  },
  {
   "cell_type": "code",
   "execution_count": 22,
   "metadata": {},
   "outputs": [],
   "source": [
    "def main():\n",
    "    # Load datasets\n",
    "    csv_svm_mlp = os.path.join(os.getcwd(), 'mlmavericks_coursework', 'data', 'processed', 'census_income_SVM_MLP.csv')\n",
    "    csv_dt = os.path.join(os.getcwd(), 'mlmavericks_coursework', 'data', 'processed', 'census_income_Decision_Tree.csv')\n",
    "\n",
    "    df_svm_mlp = load_dataset(csv_svm_mlp)\n",
    "    df_dt = load_dataset(csv_dt)\n",
    "    # Dropping target variable\n",
    "    X_svm_mlp = df_svm_mlp.drop('Income', axis=1)\n",
    "    y_svm_mlp = df_svm_mlp['Income']\n",
    "    X_dt = df_dt.drop('Income', axis=1)\n",
    "    y_dt = df_dt['Income']\n",
    "    # Split data into train/test sets\n",
    "    \n",
    "    X_train_svm, X_test_svm, y_train_svm, y_test_svm = train_test_split(X_svm_mlp, y_svm_mlp, test_size=0.2, stratify=y_svm_mlp, random_state=42)\n",
    "    X_train_dt, X_test_dt, y_train_dt, y_test_dt = train_test_split(X_dt, y_dt, test_size=0.2, stratify=y_dt, random_state=42)\n",
    "\n",
    "    # Define model configurations\n",
    "    model_configs = {\n",
    "        \"LinearSVC\": {\n",
    "            \"X_train\": X_train_svm,\n",
    "            \"X_test\": X_test_svm,\n",
    "            \"y_train\": y_train_svm,\n",
    "            \"y_test\": y_test_svm,\n",
    "            \"pipeline\": Pipeline([\n",
    "                ('scaler', StandardScaler()),\n",
    "                ('classifier', LinearSVC(class_weight='balanced', max_iter=5000, random_state=42))\n",
    "            ]),\n",
    "            \"params\": {\n",
    "                'classifier__C': [0.1, 1, 10]\n",
    "            },\n",
    "            \"search_type\": \"grid\"\n",
    "        },\n",
    "        \"MLP\": {\n",
    "            \"X_train\": X_train_svm,\n",
    "            \"X_test\": X_test_svm,\n",
    "            \"y_train\": y_train_svm,\n",
    "            \"y_test\": y_test_svm,\n",
    "            \"pipeline\": Pipeline([\n",
    "                ('scaler', StandardScaler()),\n",
    "                ('classifier', MLPClassifier(hidden_layer_sizes=(100,), max_iter=300, early_stopping=True, random_state=42))\n",
    "            ]),\n",
    "            \"params\": {\n",
    "                'classifier__alpha': [0.0001, 0.001],\n",
    "                'classifier__learning_rate_init': [0.001, 0.01]\n",
    "            },\n",
    "            \"search_type\": \"grid\"\n",
    "        },\n",
    "        \"DecisionTree\": {\n",
    "            \"X_train\": X_train_dt,\n",
    "            \"X_test\": X_test_dt,\n",
    "            \"y_train\": y_train_dt,\n",
    "            \"y_test\": y_test_dt,\n",
    "            \"pipeline\": Pipeline([\n",
    "                ('classifier', DecisionTreeClassifier(class_weight='balanced', random_state=42))\n",
    "            ]),\n",
    "            \"params\": {\n",
    "                'classifier__max_depth': [5, 10, None],\n",
    "                'classifier__min_samples_split': [2, 5]\n",
    "            },\n",
    "            \"search_type\": \"grid\"\n",
    "        }\n",
    "    }\n",
    "    #Train and evaluate all models\n",
    "    results = []\n",
    "    for name, cfg in model_configs.items():\n",
    "        result = train_and_evaluate(\n",
    "            name,\n",
    "            cfg[\"pipeline\"],\n",
    "            cfg[\"params\"],\n",
    "            cfg[\"X_train\"],\n",
    "            cfg[\"X_test\"],\n",
    "            cfg[\"y_train\"],\n",
    "            cfg[\"y_test\"],\n",
    "            cfg.get(\"search_type\", \"grid\")\n",
    "        )\n",
    "        results.append(result)\n",
    "    #Save summary results\n",
    "    results_df = pd.DataFrame(results)\n",
    "    results_df.to_csv(\"summary_results.csv\", index=False)\n",
    "    print(\"\\n Summary of Model Comparisons:\")\n",
    "    print(results_df)\n",
    "    \n",
    "    # Plot bar chart: Compare ROC-AUC across models\n",
    "    results_df_sorted = results_df.sort_values(by='AUC Value', ascending=False)\n",
    "\n",
    "    plt.figure(figsize=(8, 5))\n",
    "    sns.barplot(x='AUC Value', y='Model', data=results_df_sorted)\n",
    "    plt.title('🔍 Model Comparison by ROC-AUC')\n",
    "    plt.xlabel('ROC-AUC')\n",
    "    plt.ylabel('Model')\n",
    "    plt.xlim(0.85, 0.89)  # optional: adjust based on your AUC range\n",
    "    plt.grid(True, axis='x')\n",
    "    plt.tight_layout()\n",
    "    plt.show()\n"
   ]
  },
  {
   "cell_type": "markdown",
   "metadata": {},
   "source": [
    "## Run the script"
   ]
  },
  {
   "cell_type": "code",
   "execution_count": 25,
   "metadata": {},
   "outputs": [
    {
     "name": "stderr",
     "output_type": "stream",
     "text": [
      "C:\\Users\\ritwi\\anaconda3\\lib\\site-packages\\sklearn\\svm\\_base.py:1208: ConvergenceWarning: Liblinear failed to converge, increase the number of iterations.\n",
      "  ConvergenceWarning,\n"
     ]
    },
    {
     "name": "stdout",
     "output_type": "stream",
     "text": [
      "\n",
      "===== LinearSVC Results =====\n",
      "Best Params: {'classifier__C': 1}\n",
      "              precision    recall  f1-score   support\n",
      "\n",
      "           0       0.94      0.76      0.84      6296\n",
      "           1       0.51      0.84      0.64      1919\n",
      "\n",
      "    accuracy                           0.78      8215\n",
      "   macro avg       0.73      0.80      0.74      8215\n",
      "weighted avg       0.84      0.78      0.79      8215\n",
      "\n",
      "ROC-AUC: 0.8788549004703184\n"
     ]
    },
    {
     "data": {
      "image/png": "[encoded data removed]",
      "text/plain": [
       "<Figure size 432x288 with 2 Axes>"
      ]
     },
     "metadata": {
      "needs_background": "light"
     },
     "output_type": "display_data"
    },
    {
     "name": "stdout",
     "output_type": "stream",
     "text": [
      " Saved best model to LinearSVC_best_model.pkl\n",
      "\n",
      "===== MLP Results =====\n",
      "Best Params: {'classifier__alpha': 0.0001, 'classifier__learning_rate_init': 0.01}\n",
      "              precision    recall  f1-score   support\n",
      "\n",
      "           0       0.87      0.92      0.89      6296\n",
      "           1       0.67      0.56      0.61      1919\n",
      "\n",
      "    accuracy                           0.83      8215\n",
      "   macro avg       0.77      0.74      0.75      8215\n",
      "weighted avg       0.83      0.83      0.83      8215\n",
      "\n",
      "ROC-AUC: 0.8820702557783365\n"
     ]
    },
    {
     "data": {
      "image/png": "[encoded data removed]",
      "text/plain": [
       "<Figure size 432x288 with 2 Axes>"
      ]
     },
     "metadata": {
      "needs_background": "light"
     },
     "output_type": "display_data"
    },
    {
     "name": "stdout",
     "output_type": "stream",
     "text": [
      " Saved best model to MLP_best_model.pkl\n",
      "\n",
      "===== DecisionTree Results =====\n",
      "Best Params: {'classifier__max_depth': 5, 'classifier__min_samples_split': 2}\n",
      "              precision    recall  f1-score   support\n",
      "\n",
      "           0       0.94      0.75      0.83      6296\n",
      "           1       0.51      0.83      0.63      1919\n",
      "\n",
      "    accuracy                           0.77      8215\n",
      "   macro avg       0.72      0.79      0.73      8215\n",
      "weighted avg       0.84      0.77      0.79      8215\n",
      "\n",
      "ROC-AUC: 0.8642099204570359\n"
     ]
    },
    {
     "data": {
      "image/png": "[encoded data removed]",
      "text/plain": [
       "<Figure size 432x288 with 2 Axes>"
      ]
     },
     "metadata": {
      "needs_background": "light"
     },
     "output_type": "display_data"
    },
    {
     "name": "stdout",
     "output_type": "stream",
     "text": [
      " Saved best model to DecisionTree_best_model.pkl\n",
      "\n",
      " Summary of Model Comparisons:\n",
      "          Model                                        Best Params  AUC Value\n",
      "0     LinearSVC                               {'classifier__C': 1}   0.878855\n",
      "1           MLP  {'classifier__alpha': 0.0001, 'classifier__lea...   0.882070\n",
      "2  DecisionTree  {'classifier__max_depth': 5, 'classifier__min_...   0.864210\n"
     ]
    },
    {
     "name": "stderr",
     "output_type": "stream",
     "text": [
      "C:\\Users\\ritwi\\anaconda3\\lib\\site-packages\\matplotlib\\backends\\backend_agg.py:211: RuntimeWarning: Glyph 55357 missing from current font.\n",
      "  font.set_text(s, 0.0, flags=flags)\n",
      "C:\\Users\\ritwi\\anaconda3\\lib\\site-packages\\matplotlib\\backends\\backend_agg.py:211: RuntimeWarning: Glyph 56589 missing from current font.\n",
      "  font.set_text(s, 0.0, flags=flags)\n",
      "C:\\Users\\ritwi\\anaconda3\\lib\\site-packages\\matplotlib\\backends\\backend_agg.py:180: RuntimeWarning: Glyph 55357 missing from current font.\n",
      "  font.set_text(s, 0, flags=flags)\n",
      "C:\\Users\\ritwi\\anaconda3\\lib\\site-packages\\matplotlib\\backends\\backend_agg.py:180: RuntimeWarning: Glyph 56589 missing from current font.\n",
      "  font.set_text(s, 0, flags=flags)\n"
     ]
    },
    {
     "data": {
      "image/png": "[encoded data removed]",
      "text/plain": [
       "<Figure size 576x360 with 1 Axes>"
      ]
     },
     "metadata": {
      "needs_background": "light"
     },
     "output_type": "display_data"
    }
   ],
   "source": [
    "# Run the script\n",
    "if __name__ == \"__main__\":\n",
    "    main()\n"
   ]
  },
  {
   "cell_type": "markdown",
   "metadata": {},
   "source": [
    "## Model Performance Summary\n",
    "\n",
    "This section presents the performance of three machine learning models used to predict whether an individual's income exceeds $50K per year, based on census data.\n",
    "\n",
    "### 🔍 Evaluation Metrics\n",
    "Each model was assessed using the following metrics:\n",
    "- **Precision**: Correctly predicted positives out of all predicted positives\n",
    "- **Recall**: Correctly predicted positives out of all actual positives\n",
    "- **F1-score**: Harmonic mean of precision and recall\n",
    "- **ROC-AUC**: Area under the Receiver Operating Characteristic curve, representing the model’s ability to distinguish between classes\n",
    "\n",
    "### Results Comparison\n",
    "\n",
    "| Model         | Accuracy | Precision (Class 1) | Recall (Class 1) | F1-score (Class 1) | ROC-AUC |\n",
    "|---------------|----------|----------------------|-------------------|---------------------|---------|\n",
    "| LinearSVC     | 78%      | 0.51                 | **0.84**          | 0.64                | 0.8789  |\n",
    "| MLPClassifier | **83%**  | **0.67**             | 0.56              | **0.61**            | **0.8821** |\n",
    "| DecisionTree  | 77%      | 0.51                 | 0.83              | 0.63                | 0.8642  |\n",
    "\n",
    "### Conclusion and Recommendation\n",
    "\n",
    "- **MLPClassifier** is the strongest performer overall, with the highest accuracy and ROC-AUC, making it a solid choice for deployment.\n",
    "- **LinearSVC** and **DecisionTreeClassifier** achieved higher recall, which may be preferable in use cases where identifying all high-income individuals is prioritized (e.g., policy outreach).\n",
    "- The final choice of model should consider whether **recall** (capturing as many true positives as possible) or **precision** (reducing false positives) is more critical in the application context.\n",
    "\n",
    "\n"
   ]
  },
  {
   "cell_type": "code",
   "execution_count": null,
   "metadata": {},
   "outputs": [],
   "source": []
  }
 ],
 "metadata": {
  "kernelspec": {
   "display_name": "Python 3",
   "language": "python",
   "name": "python3"
  },
  "language_info": {
   "codemirror_mode": {
    "name": "ipython",
    "version": 3
   },
   "file_extension": ".py",
   "mimetype": "text/x-python",
   "name": "python",
   "nbconvert_exporter": "python",
   "pygments_lexer": "ipython3",
   "version": "3.7.6"
  }
 },
 "nbformat": 4,
 "nbformat_minor": 4
}

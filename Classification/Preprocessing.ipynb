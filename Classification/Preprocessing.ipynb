{
 "cells": [
  {
   "cell_type": "code",
   "execution_count": 42,
   "metadata": {},
   "outputs": [
    {
     "data": {
      "text/html": [
       "<div>\n",
       "<style scoped>\n",
       "    .dataframe tbody tr th:only-of-type {\n",
       "        vertical-align: middle;\n",
       "    }\n",
       "\n",
       "    .dataframe tbody tr th {\n",
       "        vertical-align: top;\n",
       "    }\n",
       "\n",
       "    .dataframe thead th {\n",
       "        text-align: right;\n",
       "    }\n",
       "</style>\n",
       "<table border=\"1\" class=\"dataframe\">\n",
       "  <thead>\n",
       "    <tr style=\"text-align: right;\">\n",
       "      <th></th>\n",
       "      <th>age</th>\n",
       "      <th>workclass</th>\n",
       "      <th>fnlwgt</th>\n",
       "      <th>education</th>\n",
       "      <th>education-num</th>\n",
       "      <th>marital-status</th>\n",
       "      <th>occupation</th>\n",
       "      <th>relationship</th>\n",
       "      <th>race</th>\n",
       "      <th>sex</th>\n",
       "      <th>capital-gain</th>\n",
       "      <th>capital-loss</th>\n",
       "      <th>hours-per-week</th>\n",
       "      <th>native-country</th>\n",
       "      <th>Income</th>\n",
       "    </tr>\n",
       "  </thead>\n",
       "  <tbody>\n",
       "    <tr>\n",
       "      <th>0</th>\n",
       "      <td>39</td>\n",
       "      <td>State-gov</td>\n",
       "      <td>77516</td>\n",
       "      <td>Bachelors</td>\n",
       "      <td>13</td>\n",
       "      <td>Never-married</td>\n",
       "      <td>Adm-clerical</td>\n",
       "      <td>Not-in-family</td>\n",
       "      <td>White</td>\n",
       "      <td>Male</td>\n",
       "      <td>2174</td>\n",
       "      <td>0</td>\n",
       "      <td>40</td>\n",
       "      <td>United-States</td>\n",
       "      <td>&lt;=50K</td>\n",
       "    </tr>\n",
       "    <tr>\n",
       "      <th>1</th>\n",
       "      <td>50</td>\n",
       "      <td>Self-emp-not-inc</td>\n",
       "      <td>83311</td>\n",
       "      <td>Bachelors</td>\n",
       "      <td>13</td>\n",
       "      <td>Married-civ-spouse</td>\n",
       "      <td>Exec-managerial</td>\n",
       "      <td>Husband</td>\n",
       "      <td>White</td>\n",
       "      <td>Male</td>\n",
       "      <td>0</td>\n",
       "      <td>0</td>\n",
       "      <td>13</td>\n",
       "      <td>United-States</td>\n",
       "      <td>&lt;=50K</td>\n",
       "    </tr>\n",
       "    <tr>\n",
       "      <th>2</th>\n",
       "      <td>38</td>\n",
       "      <td>Private</td>\n",
       "      <td>215646</td>\n",
       "      <td>HS-grad</td>\n",
       "      <td>9</td>\n",
       "      <td>Divorced</td>\n",
       "      <td>Handlers-cleaners</td>\n",
       "      <td>Not-in-family</td>\n",
       "      <td>White</td>\n",
       "      <td>Male</td>\n",
       "      <td>0</td>\n",
       "      <td>0</td>\n",
       "      <td>40</td>\n",
       "      <td>United-States</td>\n",
       "      <td>&lt;=50K</td>\n",
       "    </tr>\n",
       "    <tr>\n",
       "      <th>3</th>\n",
       "      <td>53</td>\n",
       "      <td>Private</td>\n",
       "      <td>234721</td>\n",
       "      <td>11th</td>\n",
       "      <td>7</td>\n",
       "      <td>Married-civ-spouse</td>\n",
       "      <td>Handlers-cleaners</td>\n",
       "      <td>Husband</td>\n",
       "      <td>Black</td>\n",
       "      <td>Male</td>\n",
       "      <td>0</td>\n",
       "      <td>0</td>\n",
       "      <td>40</td>\n",
       "      <td>United-States</td>\n",
       "      <td>&lt;=50K</td>\n",
       "    </tr>\n",
       "    <tr>\n",
       "      <th>4</th>\n",
       "      <td>28</td>\n",
       "      <td>Private</td>\n",
       "      <td>338409</td>\n",
       "      <td>Bachelors</td>\n",
       "      <td>13</td>\n",
       "      <td>Married-civ-spouse</td>\n",
       "      <td>Prof-specialty</td>\n",
       "      <td>Wife</td>\n",
       "      <td>Black</td>\n",
       "      <td>Female</td>\n",
       "      <td>0</td>\n",
       "      <td>0</td>\n",
       "      <td>40</td>\n",
       "      <td>Cuba</td>\n",
       "      <td>&lt;=50K</td>\n",
       "    </tr>\n",
       "  </tbody>\n",
       "</table>\n",
       "</div>"
      ],
      "text/plain": [
       "   age         workclass  fnlwgt  education  education-num  \\\n",
       "0   39         State-gov   77516  Bachelors             13   \n",
       "1   50  Self-emp-not-inc   83311  Bachelors             13   \n",
       "2   38           Private  215646    HS-grad              9   \n",
       "3   53           Private  234721       11th              7   \n",
       "4   28           Private  338409  Bachelors             13   \n",
       "\n",
       "       marital-status         occupation   relationship   race     sex  \\\n",
       "0       Never-married       Adm-clerical  Not-in-family  White    Male   \n",
       "1  Married-civ-spouse    Exec-managerial        Husband  White    Male   \n",
       "2            Divorced  Handlers-cleaners  Not-in-family  White    Male   \n",
       "3  Married-civ-spouse  Handlers-cleaners        Husband  Black    Male   \n",
       "4  Married-civ-spouse     Prof-specialty           Wife  Black  Female   \n",
       "\n",
       "   capital-gain  capital-loss  hours-per-week native-country Income  \n",
       "0          2174             0              40  United-States  <=50K  \n",
       "1             0             0              13  United-States  <=50K  \n",
       "2             0             0              40  United-States  <=50K  \n",
       "3             0             0              40  United-States  <=50K  \n",
       "4             0             0              40           Cuba  <=50K  "
      ]
     },
     "execution_count": 42,
     "metadata": {},
     "output_type": "execute_result"
    }
   ],
   "source": [
    "import pandas as pd\n",
    "\n",
    "df = pd.read_csv(\"../../data/raw/census_income_dataset_original.csv\")\n",
    "df.head()\n"
   ]
  },
  {
   "cell_type": "code",
   "execution_count": 43,
   "metadata": {},
   "outputs": [
    {
     "name": "stdout",
     "output_type": "stream",
     "text": [
      "<class 'pandas.core.frame.DataFrame'>\n",
      "RangeIndex: 48842 entries, 0 to 48841\n",
      "Data columns (total 15 columns):\n",
      " #   Column          Non-Null Count  Dtype \n",
      "---  ------          --------------  ----- \n",
      " 0   age             48842 non-null  int64 \n",
      " 1   workclass       47879 non-null  object\n",
      " 2   fnlwgt          48842 non-null  int64 \n",
      " 3   education       48842 non-null  object\n",
      " 4   education-num   48842 non-null  int64 \n",
      " 5   marital-status  48842 non-null  object\n",
      " 6   occupation      47876 non-null  object\n",
      " 7   relationship    48842 non-null  object\n",
      " 8   race            48842 non-null  object\n",
      " 9   sex             48842 non-null  object\n",
      " 10  capital-gain    48842 non-null  int64 \n",
      " 11  capital-loss    48842 non-null  int64 \n",
      " 12  hours-per-week  48842 non-null  int64 \n",
      " 13  native-country  48568 non-null  object\n",
      " 14  Income          48842 non-null  object\n",
      "dtypes: int64(6), object(9)\n",
      "memory usage: 5.6+ MB\n"
     ]
    }
   ],
   "source": [
    "df.info()"
   ]
  },
  {
   "cell_type": "code",
   "execution_count": 44,
   "metadata": {},
   "outputs": [
    {
     "name": "stdout",
     "output_type": "stream",
     "text": [
      "age                 0\n",
      "workclass         963\n",
      "fnlwgt              0\n",
      "education           0\n",
      "education-num       0\n",
      "marital-status      0\n",
      "occupation        966\n",
      "relationship        0\n",
      "race                0\n",
      "sex                 0\n",
      "capital-gain        0\n",
      "capital-loss        0\n",
      "hours-per-week      0\n",
      "native-country    274\n",
      "Income              0\n",
      "dtype: int64\n"
     ]
    }
   ],
   "source": [
    "print(df.isnull().sum())"
   ]
  },
  {
   "cell_type": "code",
   "execution_count": 45,
   "metadata": {},
   "outputs": [
    {
     "name": "stdout",
     "output_type": "stream",
     "text": [
      "                age        fnlwgt  education-num  capital-gain  capital-loss  \\\n",
      "count  48842.000000  4.884200e+04   48842.000000  48842.000000  48842.000000   \n",
      "mean      38.643585  1.896641e+05      10.078089   1079.067626     87.502314   \n",
      "std       13.710510  1.056040e+05       2.570973   7452.019058    403.004552   \n",
      "min       17.000000  1.228500e+04       1.000000      0.000000      0.000000   \n",
      "25%       28.000000  1.175505e+05       9.000000      0.000000      0.000000   \n",
      "50%       37.000000  1.781445e+05      10.000000      0.000000      0.000000   \n",
      "75%       48.000000  2.376420e+05      12.000000      0.000000      0.000000   \n",
      "max       90.000000  1.490400e+06      16.000000  99999.000000   4356.000000   \n",
      "\n",
      "       hours-per-week  \n",
      "count    48842.000000  \n",
      "mean        40.422382  \n",
      "std         12.391444  \n",
      "min          1.000000  \n",
      "25%         40.000000  \n",
      "50%         40.000000  \n",
      "75%         45.000000  \n",
      "max         99.000000  \n"
     ]
    }
   ],
   "source": [
    "# Summary statistics for numeric features\n",
    "print(df.describe())"
   ]
  },
  {
   "cell_type": "markdown",
   "metadata": {},
   "source": [
    "We iterate through all categorical columns to count the number of unique categories. This helps us understand the diversity and cardinality of each feature.\n"
   ]
  },
  {
   "cell_type": "code",
   "execution_count": 46,
   "metadata": {},
   "outputs": [
    {
     "name": "stdout",
     "output_type": "stream",
     "text": [
      "workclass: 9 unique values\n",
      "education: 16 unique values\n",
      "marital-status: 7 unique values\n",
      "occupation: 15 unique values\n",
      "relationship: 6 unique values\n",
      "race: 5 unique values\n",
      "sex: 2 unique values\n",
      "native-country: 42 unique values\n",
      "Income: 4 unique values\n"
     ]
    }
   ],
   "source": [
    "# Count of unique values in each categorical variable\n",
    "for col in df.select_dtypes(include='object').columns:\n",
    "    print(f\"{col}: {df[col].nunique()} unique values\")"
   ]
  },
  {
   "cell_type": "markdown",
   "metadata": {},
   "source": [
    "### Encoding target variable"
   ]
  },
  {
   "cell_type": "markdown",
   "metadata": {},
   "source": [
    "The `Income` column contains trailing periods (e.g., `<=50K.`). We remove these characters to clean the data for encoding."
   ]
  },
  {
   "cell_type": "code",
   "execution_count": 47,
   "metadata": {},
   "outputs": [
    {
     "name": "stdout",
     "output_type": "stream",
     "text": [
      "['<=50K' '>50K' '<=50K.' '>50K.']\n"
     ]
    }
   ],
   "source": [
    "unique_income_values = df['Income'].unique()\n",
    "print(unique_income_values)"
   ]
  },
  {
   "cell_type": "code",
   "execution_count": 48,
   "metadata": {},
   "outputs": [
    {
     "name": "stdout",
     "output_type": "stream",
     "text": [
      "['<=50K' '>50K']\n"
     ]
    }
   ],
   "source": [
    "# Using str.replace to remove the dot at the end of the strings in the 'Income' column\n",
    "df['Income'] = df['Income'].str.replace(r'\\.$', '', regex=True)\n",
    "\n",
    "# Checking the updated unique values to confirm the change\n",
    "print(df['Income'].unique())"
   ]
  },
  {
   "cell_type": "code",
   "execution_count": 49,
   "metadata": {},
   "outputs": [],
   "source": [
    "from sklearn.preprocessing import LabelEncoder\n",
    "\n",
    "encoder = LabelEncoder()\n",
    "df['Income'] = encoder.fit_transform(df['Income']) #<=50K will be encoded as 0 and >50K will be encoded as 1"
   ]
  },
  {
   "cell_type": "markdown",
   "metadata": {},
   "source": [
    "### Exploratory Data Analysis (EDA)"
   ]
  },
  {
   "cell_type": "markdown",
   "metadata": {},
   "source": [
    "##### 1. Correlation matrix"
   ]
  },
  {
   "cell_type": "code",
   "execution_count": 50,
   "metadata": {},
   "outputs": [
    {
     "data": {
      "text/html": [
       "<div>\n",
       "<style scoped>\n",
       "    .dataframe tbody tr th:only-of-type {\n",
       "        vertical-align: middle;\n",
       "    }\n",
       "\n",
       "    .dataframe tbody tr th {\n",
       "        vertical-align: top;\n",
       "    }\n",
       "\n",
       "    .dataframe thead th {\n",
       "        text-align: right;\n",
       "    }\n",
       "</style>\n",
       "<table border=\"1\" class=\"dataframe\">\n",
       "  <thead>\n",
       "    <tr style=\"text-align: right;\">\n",
       "      <th></th>\n",
       "      <th>age</th>\n",
       "      <th>fnlwgt</th>\n",
       "      <th>education-num</th>\n",
       "      <th>capital-gain</th>\n",
       "      <th>capital-loss</th>\n",
       "      <th>hours-per-week</th>\n",
       "      <th>Income</th>\n",
       "    </tr>\n",
       "  </thead>\n",
       "  <tbody>\n",
       "    <tr>\n",
       "      <th>age</th>\n",
       "      <td>1.000000</td>\n",
       "      <td>-0.076628</td>\n",
       "      <td>0.030940</td>\n",
       "      <td>0.077229</td>\n",
       "      <td>0.056944</td>\n",
       "      <td>0.071558</td>\n",
       "      <td>0.230369</td>\n",
       "    </tr>\n",
       "    <tr>\n",
       "      <th>fnlwgt</th>\n",
       "      <td>-0.076628</td>\n",
       "      <td>1.000000</td>\n",
       "      <td>-0.038761</td>\n",
       "      <td>-0.003706</td>\n",
       "      <td>-0.004366</td>\n",
       "      <td>-0.013519</td>\n",
       "      <td>-0.006339</td>\n",
       "    </tr>\n",
       "    <tr>\n",
       "      <th>education-num</th>\n",
       "      <td>0.030940</td>\n",
       "      <td>-0.038761</td>\n",
       "      <td>1.000000</td>\n",
       "      <td>0.125146</td>\n",
       "      <td>0.080972</td>\n",
       "      <td>0.143689</td>\n",
       "      <td>0.332613</td>\n",
       "    </tr>\n",
       "    <tr>\n",
       "      <th>capital-gain</th>\n",
       "      <td>0.077229</td>\n",
       "      <td>-0.003706</td>\n",
       "      <td>0.125146</td>\n",
       "      <td>1.000000</td>\n",
       "      <td>-0.031441</td>\n",
       "      <td>0.082157</td>\n",
       "      <td>0.223013</td>\n",
       "    </tr>\n",
       "    <tr>\n",
       "      <th>capital-loss</th>\n",
       "      <td>0.056944</td>\n",
       "      <td>-0.004366</td>\n",
       "      <td>0.080972</td>\n",
       "      <td>-0.031441</td>\n",
       "      <td>1.000000</td>\n",
       "      <td>0.054467</td>\n",
       "      <td>0.147554</td>\n",
       "    </tr>\n",
       "    <tr>\n",
       "      <th>hours-per-week</th>\n",
       "      <td>0.071558</td>\n",
       "      <td>-0.013519</td>\n",
       "      <td>0.143689</td>\n",
       "      <td>0.082157</td>\n",
       "      <td>0.054467</td>\n",
       "      <td>1.000000</td>\n",
       "      <td>0.227687</td>\n",
       "    </tr>\n",
       "    <tr>\n",
       "      <th>Income</th>\n",
       "      <td>0.230369</td>\n",
       "      <td>-0.006339</td>\n",
       "      <td>0.332613</td>\n",
       "      <td>0.223013</td>\n",
       "      <td>0.147554</td>\n",
       "      <td>0.227687</td>\n",
       "      <td>1.000000</td>\n",
       "    </tr>\n",
       "  </tbody>\n",
       "</table>\n",
       "</div>"
      ],
      "text/plain": [
       "                     age    fnlwgt  education-num  capital-gain  capital-loss  \\\n",
       "age             1.000000 -0.076628       0.030940      0.077229      0.056944   \n",
       "fnlwgt         -0.076628  1.000000      -0.038761     -0.003706     -0.004366   \n",
       "education-num   0.030940 -0.038761       1.000000      0.125146      0.080972   \n",
       "capital-gain    0.077229 -0.003706       0.125146      1.000000     -0.031441   \n",
       "capital-loss    0.056944 -0.004366       0.080972     -0.031441      1.000000   \n",
       "hours-per-week  0.071558 -0.013519       0.143689      0.082157      0.054467   \n",
       "Income          0.230369 -0.006339       0.332613      0.223013      0.147554   \n",
       "\n",
       "                hours-per-week    Income  \n",
       "age                   0.071558  0.230369  \n",
       "fnlwgt               -0.013519 -0.006339  \n",
       "education-num         0.143689  0.332613  \n",
       "capital-gain          0.082157  0.223013  \n",
       "capital-loss          0.054467  0.147554  \n",
       "hours-per-week        1.000000  0.227687  \n",
       "Income                0.227687  1.000000  "
      ]
     },
     "execution_count": 50,
     "metadata": {},
     "output_type": "execute_result"
    }
   ],
   "source": [
    "correlation_matrix = df.corr()\n",
    "correlation_matrix"
   ]
  },
  {
   "cell_type": "markdown",
   "metadata": {},
   "source": [
    "Observation:\n",
    "1. The correlation matrix shows that education-num has the highest positive correlation with Income (0.33), reinforcing that education level is a strong indicator of higher earnings.\n",
    "\n",
    "2. Features like capital-gain (0.22) and hours-per-week (0.23) also show meaningful positive relationships with income.\n",
    "\n",
    "3. age is positively correlated with income (0.23), likely due to experience and career progression.\n",
    "\n",
    "4. In contrast, fnlwgt (final weight) shows negligible negative correlation with income (-0.006), indicating it's likely not predictive and could be dropped.\n",
    "\n",
    "5. The remaining features (capital-loss, education-num, etc.) have weak to moderate correlations and may support the model depending on context."
   ]
  },
  {
   "cell_type": "markdown",
   "metadata": {},
   "source": [
    "##### 2. Heatmap"
   ]
  },
  {
   "cell_type": "code",
   "execution_count": 51,
   "metadata": {},
   "outputs": [
    {
     "data": {
      "image/png": "[encoded data removed]",
      "text/plain": [
       "<Figure size 720x576 with 2 Axes>"
      ]
     },
     "metadata": {
      "needs_background": "light"
     },
     "output_type": "display_data"
    }
   ],
   "source": [
    "#Plotting the heatmap\n",
    "import seaborn as sns\n",
    "import matplotlib.pyplot as plt\n",
    "\n",
    "plt.figure(figsize=(10, 8))\n",
    "sns.heatmap(correlation_matrix, annot=True, fmt=\".2f\", cmap='coolwarm')\n",
    "plt.title('Correlation Heatmap with Income')\n",
    "plt.show()"
   ]
  },
  {
   "cell_type": "markdown",
   "metadata": {},
   "source": [
    "Observation:\n",
    "1. The feature education-num has the highest positive correlation with Income (0.33), indicating that individuals with more years of education are more likely to earn over 50K.\n",
    "\n",
    "2. hours-per-week and capital-gain also show moderate positive correlations (around 0.22–0.23), suggesting that working more hours or having capital gains contributes positively to higher income.\n",
    "\n",
    "3. age is mildly correlated with income (0.23), possibly reflecting career progression with age.\n",
    "\n",
    "4. On the other hand, fnlwgt, a weighting factor used in the original survey sampling, shows almost no correlation with income and may not be a predictive feature.\n",
    "\n",
    "5. capital-loss has a weak positive correlation, but significantly less than capital-gain, indicating it's a less important signal."
   ]
  },
  {
   "cell_type": "markdown",
   "metadata": {},
   "source": [
    "##### 3. Distribution of numerical features in dataset"
   ]
  },
  {
   "cell_type": "code",
   "execution_count": 52,
   "metadata": {},
   "outputs": [
    {
     "data": {
      "image/png": "[encoded data removed]",
      "text/plain": [
       "<Figure size 1296x288 with 6 Axes>"
      ]
     },
     "metadata": {
      "needs_background": "light"
     },
     "output_type": "display_data"
    }
   ],
   "source": [
    "import matplotlib.pyplot as plt\n",
    "\n",
    "numerical_cols = ['age', 'fnlwgt', 'hours-per-week', 'education-num', 'capital-gain', 'capital-loss']\n",
    "\n",
    "# Set up subplots\n",
    "fig, axes = plt.subplots(nrows=1, ncols=len(numerical_cols), figsize=(3 * len(numerical_cols), 4))\n",
    "\n",
    "for i, col in enumerate(numerical_cols):\n",
    "    axes[i].hist(df[col], bins=20, color='skyblue', edgecolor='black')\n",
    "    axes[i].set_title(f'{col} Distribution')\n",
    "    axes[i].set_xlabel(col)\n",
    "    axes[i].set_ylabel('Count')\n",
    "\n",
    "plt.tight_layout()\n",
    "plt.show()"
   ]
  },
  {
   "cell_type": "markdown",
   "metadata": {},
   "source": [
    "Observations:\n",
    "1. Most features like age, hours-per-week, and fnlwgt are right-skewed, with a majority of values concentrated toward the lower end.\n",
    "\n",
    "2. capital-gain and capital-loss have a heavy concentration at zero, indicating that most individuals did not report capital income or loss.\n",
    "\n",
    "3. education-num shows a discrete distribution, reflecting the categorical nature of education levels represented numerically."
   ]
  },
  {
   "cell_type": "markdown",
   "metadata": {},
   "source": [
    "##### 4. Distribution of categorical features vs Income"
   ]
  },
  {
   "cell_type": "code",
   "execution_count": 53,
   "metadata": {},
   "outputs": [
    {
     "data": {
      "image/png": "[encoded data removed]",
      "text/plain": [
       "<Figure size 1296x720 with 6 Axes>"
      ]
     },
     "metadata": {
      "needs_background": "light"
     },
     "output_type": "display_data"
    }
   ],
   "source": [
    "import seaborn as sns\n",
    "\n",
    "categorical_cols = ['sex', 'race', 'education', 'marital-status', 'occupation', 'workclass']\n",
    "\n",
    "fig, axes = plt.subplots(nrows=2, ncols=3, figsize=(18, 10))\n",
    "\n",
    "for i, col in enumerate(categorical_cols):\n",
    "    ax = axes[i // 3, i % 3]\n",
    "    sns.countplot(x=col, hue='Income', data=df, ax=ax)\n",
    "    ax.set_title(f'{col.title()} vs Income')\n",
    "    ax.tick_params(axis='x', rotation=45)\n",
    "\n",
    "plt.tight_layout()\n",
    "plt.show()\n"
   ]
  },
  {
   "cell_type": "markdown",
   "metadata": {},
   "source": [
    "Observations:\n",
    "1. Higher income (Income = 1) is more common among males, individuals with higher education, and those in professional/managerial occupations.\n",
    "\n",
    "2. Categories like private workclass and never-married marital status are mostly associated with lower income (Income = 0).\n",
    "\n",
    "3. Disparities in income are clearly visible across gender, education, and workclass."
   ]
  },
  {
   "cell_type": "markdown",
   "metadata": {},
   "source": [
    "### Preprocessing Numerical Features"
   ]
  },
  {
   "cell_type": "markdown",
   "metadata": {},
   "source": [
    "##### Dropping columns"
   ]
  },
  {
   "cell_type": "markdown",
   "metadata": {},
   "source": [
    "Based on the low correlation between fnlwgt (final weight) and Income, it appears that this feature may not be very useful for predicting income. Hence dropping fnlgwt column."
   ]
  },
  {
   "cell_type": "code",
   "execution_count": 54,
   "metadata": {},
   "outputs": [],
   "source": [
    "df.drop('fnlwgt', axis=1, inplace=True)"
   ]
  },
  {
   "cell_type": "markdown",
   "metadata": {},
   "source": [
    "Dropping education-num because it's a numeric duplicate of education. Keeping both adds redundancy, so I'm preprocessing only education for simplicity and clarity."
   ]
  },
  {
   "cell_type": "code",
   "execution_count": 55,
   "metadata": {},
   "outputs": [],
   "source": [
    "df.drop('education-num', axis=1, inplace=True)"
   ]
  },
  {
   "cell_type": "markdown",
   "metadata": {},
   "source": [
    "Based on the highly skewed and sparse distribution of both capital-gain and capital-loss — where the majority of entries are 0 and only a few have extreme values — these features may not contribute significantly to most models. As they only add noise to the dataset dropping them is a better choice."
   ]
  },
  {
   "cell_type": "code",
   "execution_count": 56,
   "metadata": {},
   "outputs": [],
   "source": [
    "df.drop(['capital-gain', 'capital-loss'], axis=1, inplace=True)"
   ]
  },
  {
   "cell_type": "code",
   "execution_count": 57,
   "metadata": {},
   "outputs": [
    {
     "name": "stdout",
     "output_type": "stream",
     "text": [
      "Dropped 7655 duplicate rows.\n"
     ]
    }
   ],
   "source": [
    "# Dropping duplicate rows after initial cleaning\n",
    "before = df.shape[0]\n",
    "df.drop_duplicates(inplace=True)\n",
    "after = df.shape[0]\n",
    "print(f\"Dropped {before - after} duplicate rows.\")"
   ]
  },
  {
   "cell_type": "markdown",
   "metadata": {},
   "source": [
    "##### Visualizing and identifying outliers"
   ]
  },
  {
   "cell_type": "code",
   "execution_count": 58,
   "metadata": {},
   "outputs": [
    {
     "data": {
      "image/png": "[encoded data removed]",
      "text/plain": [
       "<Figure size 864x576 with 2 Axes>"
      ]
     },
     "metadata": {
      "needs_background": "light"
     },
     "output_type": "display_data"
    }
   ],
   "source": [
    "import pandas as pd\n",
    "import seaborn as sns\n",
    "import matplotlib.pyplot as plt\n",
    "\n",
    "numerical_columns = ['age', 'hours-per-week']\n",
    "\n",
    "\n",
    "plt.figure(figsize=(12, 8))\n",
    "\n",
    "for i, col in enumerate(numerical_columns):\n",
    "    plt.subplot(len(numerical_columns), 1, i + 1)\n",
    "    sns.boxplot(x=df[col])\n",
    "    plt.title(f'Box Plot of {col}')\n",
    "    plt.xlabel(col)\n",
    "\n",
    "plt.tight_layout()\n",
    "plt.show()"
   ]
  },
  {
   "cell_type": "markdown",
   "metadata": {},
   "source": [
    "Based on the distribution of the hours-per-week column, a small number of entries exceed typical full-time or overtime work hours (e.g., 70–99 hours/week). These values are potential outliers that may distort model performance. Since values above 55 hours are rare and likely not representative of the general population. Hence capping the hours-per-week feature at 55 to reduce the influence of extreme outliers while retaining all data points."
   ]
  },
  {
   "cell_type": "code",
   "execution_count": 59,
   "metadata": {},
   "outputs": [],
   "source": [
    "upper_limit_hours = 55\n",
    "df['hours-per-week'] = df['hours-per-week'].clip(upper=upper_limit_hours)"
   ]
  },
  {
   "cell_type": "code",
   "execution_count": 60,
   "metadata": {},
   "outputs": [
    {
     "data": {
      "image/png": "[encoded data removed]",
      "text/plain": [
       "<Figure size 864x576 with 2 Axes>"
      ]
     },
     "metadata": {
      "needs_background": "light"
     },
     "output_type": "display_data"
    }
   ],
   "source": [
    "plt.figure(figsize=(12, 8))\n",
    "numerical_columns = ['age', 'hours-per-week']\n",
    "\n",
    "for i, col in enumerate(numerical_columns):\n",
    "    plt.subplot(len(numerical_columns), 1, i + 1)\n",
    "    sns.boxplot(x=df[col])\n",
    "    plt.title(f'Box Plot of {col}')\n",
    "    plt.xlabel(col)\n",
    "\n",
    "\n",
    "plt.tight_layout()\n",
    "plt.show()"
   ]
  },
  {
   "cell_type": "markdown",
   "metadata": {},
   "source": [
    "### Preprocessing Categorical Features"
   ]
  },
  {
   "cell_type": "code",
   "execution_count": 61,
   "metadata": {},
   "outputs": [
    {
     "name": "stdout",
     "output_type": "stream",
     "text": [
      "workclass         859\n",
      "education           0\n",
      "marital-status      0\n",
      "occupation        862\n",
      "relationship        0\n",
      "race                0\n",
      "sex                 0\n",
      "native-country    273\n",
      "dtype: int64\n"
     ]
    }
   ],
   "source": [
    "categorical_cols = df.select_dtypes(include='object').columns\n",
    "\n",
    "# Checking for missing/null values in those columns\n",
    "missing_values = df[categorical_cols].isnull().sum()\n",
    "print(missing_values)"
   ]
  },
  {
   "cell_type": "code",
   "execution_count": 62,
   "metadata": {},
   "outputs": [
    {
     "name": "stdout",
     "output_type": "stream",
     "text": [
      "\n",
      "Column: workclass\n",
      "['State-gov' 'Self-emp-not-inc' 'Private' 'Federal-gov' 'Local-gov' '?'\n",
      " 'Self-emp-inc' 'Without-pay' 'Never-worked' nan]\n",
      "\n",
      "Column: education\n",
      "['Bachelors' 'HS-grad' '11th' 'Masters' '9th' 'Some-college' 'Assoc-acdm'\n",
      " 'Assoc-voc' '7th-8th' 'Doctorate' 'Prof-school' '5th-6th' '10th'\n",
      " '1st-4th' 'Preschool' '12th']\n",
      "\n",
      "Column: marital-status\n",
      "['Never-married' 'Married-civ-spouse' 'Divorced' 'Married-spouse-absent'\n",
      " 'Separated' 'Married-AF-spouse' 'Widowed']\n",
      "\n",
      "Column: occupation\n",
      "['Adm-clerical' 'Exec-managerial' 'Handlers-cleaners' 'Prof-specialty'\n",
      " 'Other-service' 'Sales' 'Craft-repair' 'Transport-moving'\n",
      " 'Farming-fishing' 'Machine-op-inspct' 'Tech-support' '?'\n",
      " 'Protective-serv' 'Armed-Forces' 'Priv-house-serv' nan]\n",
      "\n",
      "Column: relationship\n",
      "['Not-in-family' 'Husband' 'Wife' 'Own-child' 'Unmarried' 'Other-relative']\n",
      "\n",
      "Column: race\n",
      "['White' 'Black' 'Asian-Pac-Islander' 'Amer-Indian-Eskimo' 'Other']\n",
      "\n",
      "Column: sex\n",
      "['Male' 'Female']\n",
      "\n",
      "Column: native-country\n",
      "['United-States' 'Cuba' 'Jamaica' 'India' '?' 'Mexico' 'South'\n",
      " 'Puerto-Rico' 'Honduras' 'England' 'Canada' 'Germany' 'Iran'\n",
      " 'Philippines' 'Italy' 'Poland' 'Columbia' 'Cambodia' 'Thailand' 'Ecuador'\n",
      " 'Laos' 'Taiwan' 'Haiti' 'Portugal' 'Dominican-Republic' 'El-Salvador'\n",
      " 'France' 'Guatemala' 'China' 'Japan' 'Yugoslavia' 'Peru'\n",
      " 'Outlying-US(Guam-USVI-etc)' 'Scotland' 'Trinadad&Tobago' 'Greece'\n",
      " 'Nicaragua' 'Vietnam' 'Hong' 'Ireland' 'Hungary' 'Holand-Netherlands' nan]\n"
     ]
    }
   ],
   "source": [
    "for col in categorical_cols:\n",
    "    print(f\"\\nColumn: {col}\")\n",
    "    print(df[col].unique())"
   ]
  },
  {
   "cell_type": "markdown",
   "metadata": {},
   "source": [
    "##### Preprocessing sex column"
   ]
  },
  {
   "cell_type": "code",
   "execution_count": 63,
   "metadata": {},
   "outputs": [],
   "source": [
    "# Binary encoding the 'sex' column\n",
    "# Mapping: Male → 1, Female → 0\n",
    "df['sex'] = df['sex'].str.strip()\n",
    "df['sex'] = df['sex'].map({'Male': 1, 'Female': 0})"
   ]
  },
  {
   "cell_type": "markdown",
   "metadata": {},
   "source": [
    "##### Preprocessing education column"
   ]
  },
  {
   "cell_type": "code",
   "execution_count": 64,
   "metadata": {},
   "outputs": [],
   "source": [
    "education_order = [\n",
    "    'Preschool', '1st-4th', '5th-6th', '7th-8th',\n",
    "    '9th', '10th', '11th', '12th', 'HS-grad',\n",
    "    'Some-college', 'Assoc-voc', 'Assoc-acdm',\n",
    "    'Bachelors', 'Masters', 'Prof-school', 'Doctorate'\n",
    "]\n",
    "\n",
    "# Creating mapping dictionary\n",
    "education_map = {level: idx for idx, level in enumerate(education_order)}\n",
    "\n",
    "df['education'] = df['education'].str.strip()\n",
    "\n",
    "# Applying ordinal encoding\n",
    "df['education'] = df['education'].map(education_map)"
   ]
  },
  {
   "cell_type": "markdown",
   "metadata": {},
   "source": [
    "##### Preprocessing marital-status column"
   ]
  },
  {
   "cell_type": "code",
   "execution_count": 65,
   "metadata": {},
   "outputs": [],
   "source": [
    "# Stripping spaces before mapping\n",
    "df['marital-status'] = df['marital-status'].str.strip()\n",
    "\n",
    "def simplify_marital_status(status):\n",
    "    if status == 'Married-civ-spouse':\n",
    "        return 'Married'\n",
    "    elif status == 'Never-married':\n",
    "        return 'Single'\n",
    "    else:\n",
    "        return 'Separated'\n",
    "\n",
    "df['marital-status'] = df['marital-status'].apply(simplify_marital_status)"
   ]
  },
  {
   "cell_type": "markdown",
   "metadata": {},
   "source": [
    "##### Preprocessing occupation column"
   ]
  },
  {
   "cell_type": "code",
   "execution_count": 66,
   "metadata": {},
   "outputs": [],
   "source": [
    "# Cleaning missing values and whitespace in 'occupation'\n",
    "df['occupation'] = df['occupation'].astype(str).str.strip()\n",
    "df['occupation'] = df['occupation'].replace(['?', 'nan', 'NaN', 'None'], 'Unknown')\n",
    "df['occupation'] = df['occupation'].fillna('Unknown')"
   ]
  },
  {
   "cell_type": "markdown",
   "metadata": {},
   "source": [
    "We'll calculate the mean income for each occupation group and keep only the top N influential ones, those with higher correlation to income."
   ]
  },
  {
   "cell_type": "code",
   "execution_count": 67,
   "metadata": {},
   "outputs": [
    {
     "name": "stdout",
     "output_type": "stream",
     "text": [
      "occupation\n",
      "Exec-managerial      0.443728\n",
      "Prof-specialty       0.433928\n",
      "Armed-Forces         0.333333\n",
      "Protective-serv      0.307281\n",
      "Tech-support         0.284743\n",
      "Sales                0.259664\n",
      "Craft-repair         0.217518\n",
      "Transport-moving     0.207444\n",
      "Adm-clerical         0.147009\n",
      "Machine-op-inspct    0.119967\n",
      "Farming-fishing      0.118930\n",
      "Unknown              0.102616\n",
      "Handlers-cleaners    0.072056\n",
      "Other-service        0.046969\n",
      "Priv-house-serv      0.012552\n",
      "Name: Income, dtype: float64\n"
     ]
    }
   ],
   "source": [
    "occupation_income = df.groupby('occupation')['Income'].mean().sort_values(ascending=False)\n",
    "print(occupation_income)"
   ]
  },
  {
   "cell_type": "code",
   "execution_count": 68,
   "metadata": {},
   "outputs": [],
   "source": [
    "#Picking top 7 occupations\n",
    "top_occupations = occupation_income.head(7).index.tolist()\n",
    "\n",
    "#Grouping the rest as ‘Other’\n",
    "df['occupation_filtered'] = df['occupation'].apply(\n",
    "    lambda x: x if x in top_occupations else 'Other'\n",
    ")\n",
    "\n",
    "df.drop(['occupation'], axis=1, inplace=True)"
   ]
  },
  {
   "cell_type": "markdown",
   "metadata": {},
   "source": [
    "##### Preprocessing workclass column"
   ]
  },
  {
   "cell_type": "code",
   "execution_count": 69,
   "metadata": {},
   "outputs": [],
   "source": [
    "df['workclass'] = df['workclass'].astype(str).str.strip()\n",
    "df['workclass'] = df['workclass'].replace(['?', 'nan', 'NaN', 'None'], 'Unknown')\n",
    "df['workclass'] = df['workclass'].fillna('Unknown')"
   ]
  },
  {
   "cell_type": "code",
   "execution_count": 70,
   "metadata": {},
   "outputs": [],
   "source": [
    "def group_workclass(val):\n",
    "    if val in ['Without-pay', 'Never-worked']:\n",
    "        return 'Unemployed'\n",
    "    elif val == 'Unknown':\n",
    "        return 'Unknown'\n",
    "    else:\n",
    "        return val\n",
    "\n",
    "df['workclass'] = df['workclass'].apply(group_workclass)\n",
    "\n",
    "def simplify_workclass(val):\n",
    "    if val in ['Self-emp-inc', 'Self-emp-not-inc']:\n",
    "        return 'Self-employed'\n",
    "    elif val in ['Without-pay', 'Never-worked']:\n",
    "        return 'Unemployed'\n",
    "    elif val == 'Unknown':\n",
    "        return 'Unknown'\n",
    "    else:\n",
    "        return val\n",
    "\n",
    "df['workclass'] = df['workclass'].apply(simplify_workclass)"
   ]
  },
  {
   "cell_type": "markdown",
   "metadata": {},
   "source": [
    "##### Preprocessing native-country column"
   ]
  },
  {
   "cell_type": "markdown",
   "metadata": {},
   "source": [
    "Grouping native-country into geographic regions to reduce high cardinality and encoded it with one-hot encoding. This simplifies the feature while preserving potential regional income patterns."
   ]
  },
  {
   "cell_type": "code",
   "execution_count": 71,
   "metadata": {},
   "outputs": [],
   "source": [
    "df['native-country'] = df['native-country'].astype(str).str.strip()\n",
    "df['native-country'] = df['native-country'].replace(['?', 'nan', 'NaN', 'None'], 'Unknown')\n",
    "df['native-country'] = df['native-country'].fillna('Unknown')"
   ]
  },
  {
   "cell_type": "code",
   "execution_count": 72,
   "metadata": {},
   "outputs": [],
   "source": [
    "# Dropped south because this value looks suspicious and may have been a partial/misentered country name\n",
    "df = df[df['native-country'] != 'South']"
   ]
  },
  {
   "cell_type": "code",
   "execution_count": 73,
   "metadata": {},
   "outputs": [],
   "source": [
    "def map_country_to_region(country):\n",
    "    north_america = ['United-States', 'Canada', 'Puerto-Rico', 'Outlying-US(Guam-USVI-etc)']\n",
    "    latin_america = ['Mexico', 'Cuba', 'Jamaica', 'Honduras', 'El-Salvador',\n",
    "                     'Columbia', 'Guatemala', 'Nicaragua', 'Dominican-Republic',\n",
    "                     'Trinadad&Tobago', 'Ecuador', 'Haiti', 'Peru']\n",
    "    asia = ['India', 'China', 'Japan', 'Vietnam', 'Philippines', 'Thailand', 'Cambodia', 'Laos', 'Taiwan', 'Hong']\n",
    "    europe = ['England', 'Germany', 'Italy', 'Poland', 'Portugal', 'France', 'Greece', 'Ireland', 'Hungary',\n",
    "              'Scotland', 'Yugoslavia', 'Holand-Netherlands']\n",
    "    middle_east = ['Iran']\n",
    "    africa = ['South-Africa', 'Egypt']\n",
    "\n",
    "    if country in north_america:\n",
    "        return 'North America'\n",
    "    elif country in latin_america:\n",
    "        return 'Latin America'\n",
    "    elif country in asia:\n",
    "        return 'Asia'\n",
    "    elif country in europe:\n",
    "        return 'Europe'\n",
    "    elif country in middle_east:\n",
    "        return 'Middle East'\n",
    "    elif country in africa:\n",
    "        return 'Africa'\n",
    "    elif country == 'Unknown':\n",
    "        return 'Unknown'\n",
    "    else:\n",
    "        return 'Other'\n",
    "\n",
    "\n",
    "df['region'] = df['native-country'].apply(map_country_to_region)\n",
    "df.drop(['native-country'], axis=1, inplace=True)"
   ]
  },
  {
   "cell_type": "code",
   "execution_count": 74,
   "metadata": {},
   "outputs": [],
   "source": [
    "df.to_csv('../../data/processed/before_model_specific_encoding.csv', index=False)"
   ]
  },
  {
   "cell_type": "markdown",
   "metadata": {},
   "source": [
    "### Preprocessing for Decision Tree"
   ]
  },
  {
   "cell_type": "markdown",
   "metadata": {},
   "source": [
    "Decision Trees split data based on feature values. For categorical features, they only need a way to distinguish between categories — the model does **not assume any ordinal relationship**, so **label encoding** is appropriate.\n",
    "\n",
    "Hence, we are applying `LabelEncoder` to the following categorical columns:\n",
    "- `workclass`\n",
    "- `marital-status`\n",
    "- `relationship`\n",
    "- `race`\n",
    "- `occupation_filtered`\n",
    "- `region`\n",
    "\n",
    "Each category in these features was mapped to a unique integer using `LabelEncoder`.\n"
   ]
  },
  {
   "cell_type": "code",
   "execution_count": 75,
   "metadata": {},
   "outputs": [],
   "source": [
    "from sklearn.preprocessing import LabelEncoder\n",
    "\n",
    "label_mappings = {}\n",
    "label_encode_cols = ['race', 'relationship', 'marital-status', \n",
    "                     'occupation_filtered', 'workclass', 'region']\n",
    "\n",
    "for col in label_encode_cols:\n",
    "    df[col] = df[col].astype(str).str.strip()\n",
    "    le = LabelEncoder()\n",
    "    df[col] = le.fit_transform(df[col])\n",
    "    \n",
    "    label_mappings[col] = dict(zip(le.classes_, le.transform(le.classes_)))\n"
   ]
  },
  {
   "cell_type": "code",
   "execution_count": 76,
   "metadata": {},
   "outputs": [
    {
     "name": "stdout",
     "output_type": "stream",
     "text": [
      "\n",
      "race mapping:\n",
      "  Amer-Indian-Eskimo → 0\n",
      "  Asian-Pac-Islander → 1\n",
      "  Black → 2\n",
      "  Other → 3\n",
      "  White → 4\n",
      "\n",
      "relationship mapping:\n",
      "  Husband → 0\n",
      "  Not-in-family → 1\n",
      "  Other-relative → 2\n",
      "  Own-child → 3\n",
      "  Unmarried → 4\n",
      "  Wife → 5\n",
      "\n",
      "marital-status mapping:\n",
      "  Married → 0\n",
      "  Separated → 1\n",
      "  Single → 2\n",
      "\n",
      "occupation_filtered mapping:\n",
      "  Armed-Forces → 0\n",
      "  Craft-repair → 1\n",
      "  Exec-managerial → 2\n",
      "  Other → 3\n",
      "  Prof-specialty → 4\n",
      "  Protective-serv → 5\n",
      "  Sales → 6\n",
      "  Tech-support → 7\n",
      "\n",
      "workclass mapping:\n",
      "  Federal-gov → 0\n",
      "  Local-gov → 1\n",
      "  Private → 2\n",
      "  Self-employed → 3\n",
      "  State-gov → 4\n",
      "  Unemployed → 5\n",
      "  Unknown → 6\n",
      "\n",
      "region mapping:\n",
      "  Asia → 0\n",
      "  Europe → 1\n",
      "  Latin America → 2\n",
      "  Middle East → 3\n",
      "  North America → 4\n",
      "  Unknown → 5\n"
     ]
    }
   ],
   "source": [
    "for col, mapping in label_mappings.items():\n",
    "    print(f\"\\n{col} mapping:\")\n",
    "    for category, label in mapping.items():\n",
    "        print(f\"  {category} → {label}\")"
   ]
  },
  {
   "cell_type": "code",
   "execution_count": 77,
   "metadata": {},
   "outputs": [],
   "source": [
    "df.columns = df.columns.str.strip().str.replace(r'\\s+', '_', regex=True)\n",
    "df.to_csv('../../data/processed/census_income_Decision_Tree.csv', index=False)\n"
   ]
  },
  {
   "cell_type": "markdown",
   "metadata": {},
   "source": [
    "### Preprocessing for Support Vector Machine (SVM) and Multi Layer Perceptron (MLP)"
   ]
  },
  {
   "cell_type": "markdown",
   "metadata": {},
   "source": [
    "Support Vector Machines (SVMs) and Multilayer Perceptrons (MLPs) both require careful preprocessing due to their sensitivity to input feature scale and format.\n",
    "\n",
    "SVMs rely on dot products and distance-based computations to define decision boundaries. Without standardized features, larger-scale variables can dominate these calculations, leading to biased or unstable models.\n",
    "\n",
    "MLPs, which learn via gradient descent and backpropagation, are similarly affected. Unscaled inputs can cause inefficient training, slow convergence, or issues like vanishing gradients — especially with deeper architectures.\n",
    "\n",
    "Both models also require categorical data to be encoded numerically. One-hot encoding is preferred over label encoding to avoid introducing false ordinal relationships.\n",
    "\n",
    "In summary, preprocessing for SVMs and MLPs typically involves:\n",
    "- One-hot encoding of categorical variables\n",
    "- Standardization of numerical features\n",
    "- Target is binary\n"
   ]
  },
  {
   "cell_type": "code",
   "execution_count": 78,
   "metadata": {},
   "outputs": [
    {
     "data": {
      "text/html": [
       "<div>\n",
       "<style scoped>\n",
       "    .dataframe tbody tr th:only-of-type {\n",
       "        vertical-align: middle;\n",
       "    }\n",
       "\n",
       "    .dataframe tbody tr th {\n",
       "        vertical-align: top;\n",
       "    }\n",
       "\n",
       "    .dataframe thead th {\n",
       "        text-align: right;\n",
       "    }\n",
       "</style>\n",
       "<table border=\"1\" class=\"dataframe\">\n",
       "  <thead>\n",
       "    <tr style=\"text-align: right;\">\n",
       "      <th></th>\n",
       "      <th>age</th>\n",
       "      <th>workclass</th>\n",
       "      <th>education</th>\n",
       "      <th>marital-status</th>\n",
       "      <th>relationship</th>\n",
       "      <th>race</th>\n",
       "      <th>sex</th>\n",
       "      <th>hours-per-week</th>\n",
       "      <th>Income</th>\n",
       "      <th>occupation_filtered</th>\n",
       "      <th>region</th>\n",
       "    </tr>\n",
       "  </thead>\n",
       "  <tbody>\n",
       "    <tr>\n",
       "      <th>0</th>\n",
       "      <td>39</td>\n",
       "      <td>State-gov</td>\n",
       "      <td>12</td>\n",
       "      <td>Single</td>\n",
       "      <td>Not-in-family</td>\n",
       "      <td>White</td>\n",
       "      <td>1</td>\n",
       "      <td>40</td>\n",
       "      <td>0</td>\n",
       "      <td>Other</td>\n",
       "      <td>North America</td>\n",
       "    </tr>\n",
       "    <tr>\n",
       "      <th>1</th>\n",
       "      <td>50</td>\n",
       "      <td>Self-employed</td>\n",
       "      <td>12</td>\n",
       "      <td>Married</td>\n",
       "      <td>Husband</td>\n",
       "      <td>White</td>\n",
       "      <td>1</td>\n",
       "      <td>13</td>\n",
       "      <td>0</td>\n",
       "      <td>Exec-managerial</td>\n",
       "      <td>North America</td>\n",
       "    </tr>\n",
       "    <tr>\n",
       "      <th>2</th>\n",
       "      <td>38</td>\n",
       "      <td>Private</td>\n",
       "      <td>8</td>\n",
       "      <td>Separated</td>\n",
       "      <td>Not-in-family</td>\n",
       "      <td>White</td>\n",
       "      <td>1</td>\n",
       "      <td>40</td>\n",
       "      <td>0</td>\n",
       "      <td>Other</td>\n",
       "      <td>North America</td>\n",
       "    </tr>\n",
       "    <tr>\n",
       "      <th>3</th>\n",
       "      <td>53</td>\n",
       "      <td>Private</td>\n",
       "      <td>6</td>\n",
       "      <td>Married</td>\n",
       "      <td>Husband</td>\n",
       "      <td>Black</td>\n",
       "      <td>1</td>\n",
       "      <td>40</td>\n",
       "      <td>0</td>\n",
       "      <td>Other</td>\n",
       "      <td>North America</td>\n",
       "    </tr>\n",
       "    <tr>\n",
       "      <th>4</th>\n",
       "      <td>28</td>\n",
       "      <td>Private</td>\n",
       "      <td>12</td>\n",
       "      <td>Married</td>\n",
       "      <td>Wife</td>\n",
       "      <td>Black</td>\n",
       "      <td>0</td>\n",
       "      <td>40</td>\n",
       "      <td>0</td>\n",
       "      <td>Prof-specialty</td>\n",
       "      <td>Latin America</td>\n",
       "    </tr>\n",
       "  </tbody>\n",
       "</table>\n",
       "</div>"
      ],
      "text/plain": [
       "   age      workclass  education marital-status   relationship   race  sex  \\\n",
       "0   39      State-gov         12         Single  Not-in-family  White    1   \n",
       "1   50  Self-employed         12        Married        Husband  White    1   \n",
       "2   38        Private          8      Separated  Not-in-family  White    1   \n",
       "3   53        Private          6        Married        Husband  Black    1   \n",
       "4   28        Private         12        Married           Wife  Black    0   \n",
       "\n",
       "   hours-per-week  Income occupation_filtered         region  \n",
       "0              40       0               Other  North America  \n",
       "1              13       0     Exec-managerial  North America  \n",
       "2              40       0               Other  North America  \n",
       "3              40       0               Other  North America  \n",
       "4              40       0      Prof-specialty  Latin America  "
      ]
     },
     "execution_count": 78,
     "metadata": {},
     "output_type": "execute_result"
    }
   ],
   "source": [
    "from sklearn.preprocessing import StandardScaler\n",
    "import pandas as pd\n",
    "\n",
    "# Loading the pre-encoded dataframe\n",
    "df_svm = pd.read_csv('../../data/processed/before_model_specific_encoding.csv')\n",
    "df_svm.head()\n"
   ]
  },
  {
   "cell_type": "markdown",
   "metadata": {},
   "source": [
    "We are applying **one-hot encoding** to the following categorical columns:\n",
    "- `workclass`\n",
    "- `marital-status`\n",
    "- `relationship`\n",
    "- `race`\n",
    "- `occupation_filtered`\n",
    "- `region`"
   ]
  },
  {
   "cell_type": "code",
   "execution_count": 79,
   "metadata": {},
   "outputs": [
    {
     "data": {
      "text/html": [
       "<div>\n",
       "<style scoped>\n",
       "    .dataframe tbody tr th:only-of-type {\n",
       "        vertical-align: middle;\n",
       "    }\n",
       "\n",
       "    .dataframe tbody tr th {\n",
       "        vertical-align: top;\n",
       "    }\n",
       "\n",
       "    .dataframe thead th {\n",
       "        text-align: right;\n",
       "    }\n",
       "</style>\n",
       "<table border=\"1\" class=\"dataframe\">\n",
       "  <thead>\n",
       "    <tr style=\"text-align: right;\">\n",
       "      <th></th>\n",
       "      <th>age</th>\n",
       "      <th>education</th>\n",
       "      <th>sex</th>\n",
       "      <th>hours-per-week</th>\n",
       "      <th>Income</th>\n",
       "      <th>workclass_Federal-gov</th>\n",
       "      <th>workclass_Local-gov</th>\n",
       "      <th>workclass_Private</th>\n",
       "      <th>workclass_Self-employed</th>\n",
       "      <th>workclass_State-gov</th>\n",
       "      <th>...</th>\n",
       "      <th>occupation_filtered_Prof-specialty</th>\n",
       "      <th>occupation_filtered_Protective-serv</th>\n",
       "      <th>occupation_filtered_Sales</th>\n",
       "      <th>occupation_filtered_Tech-support</th>\n",
       "      <th>region_Asia</th>\n",
       "      <th>region_Europe</th>\n",
       "      <th>region_Latin America</th>\n",
       "      <th>region_Middle East</th>\n",
       "      <th>region_North America</th>\n",
       "      <th>region_Unknown</th>\n",
       "    </tr>\n",
       "  </thead>\n",
       "  <tbody>\n",
       "    <tr>\n",
       "      <th>0</th>\n",
       "      <td>39</td>\n",
       "      <td>12</td>\n",
       "      <td>1</td>\n",
       "      <td>40</td>\n",
       "      <td>0</td>\n",
       "      <td>0</td>\n",
       "      <td>0</td>\n",
       "      <td>0</td>\n",
       "      <td>0</td>\n",
       "      <td>1</td>\n",
       "      <td>...</td>\n",
       "      <td>0</td>\n",
       "      <td>0</td>\n",
       "      <td>0</td>\n",
       "      <td>0</td>\n",
       "      <td>0</td>\n",
       "      <td>0</td>\n",
       "      <td>0</td>\n",
       "      <td>0</td>\n",
       "      <td>1</td>\n",
       "      <td>0</td>\n",
       "    </tr>\n",
       "    <tr>\n",
       "      <th>1</th>\n",
       "      <td>50</td>\n",
       "      <td>12</td>\n",
       "      <td>1</td>\n",
       "      <td>13</td>\n",
       "      <td>0</td>\n",
       "      <td>0</td>\n",
       "      <td>0</td>\n",
       "      <td>0</td>\n",
       "      <td>1</td>\n",
       "      <td>0</td>\n",
       "      <td>...</td>\n",
       "      <td>0</td>\n",
       "      <td>0</td>\n",
       "      <td>0</td>\n",
       "      <td>0</td>\n",
       "      <td>0</td>\n",
       "      <td>0</td>\n",
       "      <td>0</td>\n",
       "      <td>0</td>\n",
       "      <td>1</td>\n",
       "      <td>0</td>\n",
       "    </tr>\n",
       "    <tr>\n",
       "      <th>2</th>\n",
       "      <td>38</td>\n",
       "      <td>8</td>\n",
       "      <td>1</td>\n",
       "      <td>40</td>\n",
       "      <td>0</td>\n",
       "      <td>0</td>\n",
       "      <td>0</td>\n",
       "      <td>1</td>\n",
       "      <td>0</td>\n",
       "      <td>0</td>\n",
       "      <td>...</td>\n",
       "      <td>0</td>\n",
       "      <td>0</td>\n",
       "      <td>0</td>\n",
       "      <td>0</td>\n",
       "      <td>0</td>\n",
       "      <td>0</td>\n",
       "      <td>0</td>\n",
       "      <td>0</td>\n",
       "      <td>1</td>\n",
       "      <td>0</td>\n",
       "    </tr>\n",
       "    <tr>\n",
       "      <th>3</th>\n",
       "      <td>53</td>\n",
       "      <td>6</td>\n",
       "      <td>1</td>\n",
       "      <td>40</td>\n",
       "      <td>0</td>\n",
       "      <td>0</td>\n",
       "      <td>0</td>\n",
       "      <td>1</td>\n",
       "      <td>0</td>\n",
       "      <td>0</td>\n",
       "      <td>...</td>\n",
       "      <td>0</td>\n",
       "      <td>0</td>\n",
       "      <td>0</td>\n",
       "      <td>0</td>\n",
       "      <td>0</td>\n",
       "      <td>0</td>\n",
       "      <td>0</td>\n",
       "      <td>0</td>\n",
       "      <td>1</td>\n",
       "      <td>0</td>\n",
       "    </tr>\n",
       "    <tr>\n",
       "      <th>4</th>\n",
       "      <td>28</td>\n",
       "      <td>12</td>\n",
       "      <td>0</td>\n",
       "      <td>40</td>\n",
       "      <td>0</td>\n",
       "      <td>0</td>\n",
       "      <td>0</td>\n",
       "      <td>1</td>\n",
       "      <td>0</td>\n",
       "      <td>0</td>\n",
       "      <td>...</td>\n",
       "      <td>1</td>\n",
       "      <td>0</td>\n",
       "      <td>0</td>\n",
       "      <td>0</td>\n",
       "      <td>0</td>\n",
       "      <td>0</td>\n",
       "      <td>1</td>\n",
       "      <td>0</td>\n",
       "      <td>0</td>\n",
       "      <td>0</td>\n",
       "    </tr>\n",
       "  </tbody>\n",
       "</table>\n",
       "<p>5 rows × 40 columns</p>\n",
       "</div>"
      ],
      "text/plain": [
       "   age  education  sex  hours-per-week  Income  workclass_Federal-gov  \\\n",
       "0   39         12    1              40       0                      0   \n",
       "1   50         12    1              13       0                      0   \n",
       "2   38          8    1              40       0                      0   \n",
       "3   53          6    1              40       0                      0   \n",
       "4   28         12    0              40       0                      0   \n",
       "\n",
       "   workclass_Local-gov  workclass_Private  workclass_Self-employed  \\\n",
       "0                    0                  0                        0   \n",
       "1                    0                  0                        1   \n",
       "2                    0                  1                        0   \n",
       "3                    0                  1                        0   \n",
       "4                    0                  1                        0   \n",
       "\n",
       "   workclass_State-gov  ...  occupation_filtered_Prof-specialty  \\\n",
       "0                    1  ...                                   0   \n",
       "1                    0  ...                                   0   \n",
       "2                    0  ...                                   0   \n",
       "3                    0  ...                                   0   \n",
       "4                    0  ...                                   1   \n",
       "\n",
       "   occupation_filtered_Protective-serv  occupation_filtered_Sales  \\\n",
       "0                                    0                          0   \n",
       "1                                    0                          0   \n",
       "2                                    0                          0   \n",
       "3                                    0                          0   \n",
       "4                                    0                          0   \n",
       "\n",
       "   occupation_filtered_Tech-support  region_Asia  region_Europe  \\\n",
       "0                                 0            0              0   \n",
       "1                                 0            0              0   \n",
       "2                                 0            0              0   \n",
       "3                                 0            0              0   \n",
       "4                                 0            0              0   \n",
       "\n",
       "   region_Latin America  region_Middle East  region_North America  \\\n",
       "0                     0                   0                     1   \n",
       "1                     0                   0                     1   \n",
       "2                     0                   0                     1   \n",
       "3                     0                   0                     1   \n",
       "4                     1                   0                     0   \n",
       "\n",
       "   region_Unknown  \n",
       "0               0  \n",
       "1               0  \n",
       "2               0  \n",
       "3               0  \n",
       "4               0  \n",
       "\n",
       "[5 rows x 40 columns]"
      ]
     },
     "execution_count": 79,
     "metadata": {},
     "output_type": "execute_result"
    }
   ],
   "source": [
    "one_hot_cols = ['workclass', 'marital-status', 'relationship',\n",
    "                'race', 'occupation_filtered', 'region']\n",
    "\n",
    "df_svm = pd.get_dummies(df_svm, columns=one_hot_cols, drop_first=False)\n",
    "df_svm.head()"
   ]
  },
  {
   "cell_type": "markdown",
   "metadata": {},
   "source": [
    "SVMs rely on distance calculations and hyperplanes to separate classes, while MLPs depend on gradient-based optimization and weighted activations across layers. In both cases, if one feature has a much larger numerical range than others, it can dominate the learning process, leading to biased or inefficient training.\n",
    "\n",
    "To ensure balanced learning and faster convergence, we are standardizing the following numerical features using `StandardScaler`:\n",
    "\n",
    "- `age`\n",
    "- `education`\n",
    "- `hours-per-week`\n",
    "\n",
    "This transformation scales each feature to have a mean of 0 and standard deviation of 1, which helps both models interpret and optimize feature weights effectively."
   ]
  },
  {
   "cell_type": "code",
   "execution_count": 80,
   "metadata": {},
   "outputs": [
    {
     "data": {
      "text/html": [
       "<div>\n",
       "<style scoped>\n",
       "    .dataframe tbody tr th:only-of-type {\n",
       "        vertical-align: middle;\n",
       "    }\n",
       "\n",
       "    .dataframe tbody tr th {\n",
       "        vertical-align: top;\n",
       "    }\n",
       "\n",
       "    .dataframe thead th {\n",
       "        text-align: right;\n",
       "    }\n",
       "</style>\n",
       "<table border=\"1\" class=\"dataframe\">\n",
       "  <thead>\n",
       "    <tr style=\"text-align: right;\">\n",
       "      <th></th>\n",
       "      <th>age</th>\n",
       "      <th>education</th>\n",
       "      <th>sex</th>\n",
       "      <th>hours-per-week</th>\n",
       "      <th>Income</th>\n",
       "      <th>workclass_Federal-gov</th>\n",
       "      <th>workclass_Local-gov</th>\n",
       "      <th>workclass_Private</th>\n",
       "      <th>workclass_Self-employed</th>\n",
       "      <th>workclass_State-gov</th>\n",
       "      <th>...</th>\n",
       "      <th>occupation_filtered_Prof-specialty</th>\n",
       "      <th>occupation_filtered_Protective-serv</th>\n",
       "      <th>occupation_filtered_Sales</th>\n",
       "      <th>occupation_filtered_Tech-support</th>\n",
       "      <th>region_Asia</th>\n",
       "      <th>region_Europe</th>\n",
       "      <th>region_Latin America</th>\n",
       "      <th>region_Middle East</th>\n",
       "      <th>region_North America</th>\n",
       "      <th>region_Unknown</th>\n",
       "    </tr>\n",
       "  </thead>\n",
       "  <tbody>\n",
       "    <tr>\n",
       "      <th>0</th>\n",
       "      <td>-0.032695</td>\n",
       "      <td>1.102604</td>\n",
       "      <td>1</td>\n",
       "      <td>0.044626</td>\n",
       "      <td>0</td>\n",
       "      <td>0</td>\n",
       "      <td>0</td>\n",
       "      <td>0</td>\n",
       "      <td>0</td>\n",
       "      <td>1</td>\n",
       "      <td>...</td>\n",
       "      <td>0</td>\n",
       "      <td>0</td>\n",
       "      <td>0</td>\n",
       "      <td>0</td>\n",
       "      <td>0</td>\n",
       "      <td>0</td>\n",
       "      <td>0</td>\n",
       "      <td>0</td>\n",
       "      <td>1</td>\n",
       "      <td>0</td>\n",
       "    </tr>\n",
       "    <tr>\n",
       "      <th>1</th>\n",
       "      <td>0.759727</td>\n",
       "      <td>1.102604</td>\n",
       "      <td>1</td>\n",
       "      <td>-2.457673</td>\n",
       "      <td>0</td>\n",
       "      <td>0</td>\n",
       "      <td>0</td>\n",
       "      <td>0</td>\n",
       "      <td>1</td>\n",
       "      <td>0</td>\n",
       "      <td>...</td>\n",
       "      <td>0</td>\n",
       "      <td>0</td>\n",
       "      <td>0</td>\n",
       "      <td>0</td>\n",
       "      <td>0</td>\n",
       "      <td>0</td>\n",
       "      <td>0</td>\n",
       "      <td>0</td>\n",
       "      <td>1</td>\n",
       "      <td>0</td>\n",
       "    </tr>\n",
       "    <tr>\n",
       "      <th>2</th>\n",
       "      <td>-0.104734</td>\n",
       "      <td>-0.398752</td>\n",
       "      <td>1</td>\n",
       "      <td>0.044626</td>\n",
       "      <td>0</td>\n",
       "      <td>0</td>\n",
       "      <td>0</td>\n",
       "      <td>1</td>\n",
       "      <td>0</td>\n",
       "      <td>0</td>\n",
       "      <td>...</td>\n",
       "      <td>0</td>\n",
       "      <td>0</td>\n",
       "      <td>0</td>\n",
       "      <td>0</td>\n",
       "      <td>0</td>\n",
       "      <td>0</td>\n",
       "      <td>0</td>\n",
       "      <td>0</td>\n",
       "      <td>1</td>\n",
       "      <td>0</td>\n",
       "    </tr>\n",
       "    <tr>\n",
       "      <th>3</th>\n",
       "      <td>0.975843</td>\n",
       "      <td>-1.149430</td>\n",
       "      <td>1</td>\n",
       "      <td>0.044626</td>\n",
       "      <td>0</td>\n",
       "      <td>0</td>\n",
       "      <td>0</td>\n",
       "      <td>1</td>\n",
       "      <td>0</td>\n",
       "      <td>0</td>\n",
       "      <td>...</td>\n",
       "      <td>0</td>\n",
       "      <td>0</td>\n",
       "      <td>0</td>\n",
       "      <td>0</td>\n",
       "      <td>0</td>\n",
       "      <td>0</td>\n",
       "      <td>0</td>\n",
       "      <td>0</td>\n",
       "      <td>1</td>\n",
       "      <td>0</td>\n",
       "    </tr>\n",
       "    <tr>\n",
       "      <th>4</th>\n",
       "      <td>-0.825118</td>\n",
       "      <td>1.102604</td>\n",
       "      <td>0</td>\n",
       "      <td>0.044626</td>\n",
       "      <td>0</td>\n",
       "      <td>0</td>\n",
       "      <td>0</td>\n",
       "      <td>1</td>\n",
       "      <td>0</td>\n",
       "      <td>0</td>\n",
       "      <td>...</td>\n",
       "      <td>1</td>\n",
       "      <td>0</td>\n",
       "      <td>0</td>\n",
       "      <td>0</td>\n",
       "      <td>0</td>\n",
       "      <td>0</td>\n",
       "      <td>1</td>\n",
       "      <td>0</td>\n",
       "      <td>0</td>\n",
       "      <td>0</td>\n",
       "    </tr>\n",
       "  </tbody>\n",
       "</table>\n",
       "<p>5 rows × 40 columns</p>\n",
       "</div>"
      ],
      "text/plain": [
       "        age  education  sex  hours-per-week  Income  workclass_Federal-gov  \\\n",
       "0 -0.032695   1.102604    1        0.044626       0                      0   \n",
       "1  0.759727   1.102604    1       -2.457673       0                      0   \n",
       "2 -0.104734  -0.398752    1        0.044626       0                      0   \n",
       "3  0.975843  -1.149430    1        0.044626       0                      0   \n",
       "4 -0.825118   1.102604    0        0.044626       0                      0   \n",
       "\n",
       "   workclass_Local-gov  workclass_Private  workclass_Self-employed  \\\n",
       "0                    0                  0                        0   \n",
       "1                    0                  0                        1   \n",
       "2                    0                  1                        0   \n",
       "3                    0                  1                        0   \n",
       "4                    0                  1                        0   \n",
       "\n",
       "   workclass_State-gov  ...  occupation_filtered_Prof-specialty  \\\n",
       "0                    1  ...                                   0   \n",
       "1                    0  ...                                   0   \n",
       "2                    0  ...                                   0   \n",
       "3                    0  ...                                   0   \n",
       "4                    0  ...                                   1   \n",
       "\n",
       "   occupation_filtered_Protective-serv  occupation_filtered_Sales  \\\n",
       "0                                    0                          0   \n",
       "1                                    0                          0   \n",
       "2                                    0                          0   \n",
       "3                                    0                          0   \n",
       "4                                    0                          0   \n",
       "\n",
       "   occupation_filtered_Tech-support  region_Asia  region_Europe  \\\n",
       "0                                 0            0              0   \n",
       "1                                 0            0              0   \n",
       "2                                 0            0              0   \n",
       "3                                 0            0              0   \n",
       "4                                 0            0              0   \n",
       "\n",
       "   region_Latin America  region_Middle East  region_North America  \\\n",
       "0                     0                   0                     1   \n",
       "1                     0                   0                     1   \n",
       "2                     0                   0                     1   \n",
       "3                     0                   0                     1   \n",
       "4                     1                   0                     0   \n",
       "\n",
       "   region_Unknown  \n",
       "0               0  \n",
       "1               0  \n",
       "2               0  \n",
       "3               0  \n",
       "4               0  \n",
       "\n",
       "[5 rows x 40 columns]"
      ]
     },
     "execution_count": 80,
     "metadata": {},
     "output_type": "execute_result"
    }
   ],
   "source": [
    "scaler = StandardScaler()\n",
    "num_cols = ['age', 'education', 'hours-per-week']\n",
    "df_svm[num_cols] = scaler.fit_transform(df_svm[num_cols])\n",
    "df_svm.head()\n"
   ]
  },
  {
   "cell_type": "code",
   "execution_count": 81,
   "metadata": {},
   "outputs": [],
   "source": [
    "# Ensuring the target column is integer (binary)\n",
    "df_svm['Income'] = df_svm['Income'].astype(int)"
   ]
  },
  {
   "cell_type": "code",
   "execution_count": 82,
   "metadata": {},
   "outputs": [],
   "source": [
    "# Saved the SVM preprocessed dataset\n",
    "df_svm.to_csv('../../data/processed/census_income_SVM_MLP.csv', index=False)"
   ]
  }
 ],
 "metadata": {
  "kernelspec": {
   "display_name": "Python 3",
   "language": "python",
   "name": "python3"
  },
  "language_info": {
   "codemirror_mode": {
    "name": "ipython",
    "version": 3
   },
   "file_extension": ".py",
   "mimetype": "text/x-python",
   "name": "python",
   "nbconvert_exporter": "python",
   "pygments_lexer": "ipython3",
   "version": "3.9.6"
  }
 },
 "nbformat": 4,
 "nbformat_minor": 2
}
